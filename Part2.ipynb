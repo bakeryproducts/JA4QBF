{
 "cells": [
  {
   "cell_type": "code",
   "execution_count": 1,
   "metadata": {
    "ExecuteTime": {
     "end_time": "2018-12-16T16:27:18.991544Z",
     "start_time": "2018-12-16T16:27:15.532330Z"
    },
    "scrolled": true
   },
   "outputs": [
    {
     "data": {
      "text/html": [
       "<style>.container { width:95% !important; }</style>"
      ],
      "text/plain": [
       "<IPython.core.display.HTML object>"
      ]
     },
     "metadata": {},
     "output_type": "display_data"
    }
   ],
   "source": [
    "import numpy as np\n",
    "import pandas as pd\n",
    "import matplotlib.pyplot as plt\n",
    "import pickle\n",
    "import tensorflow as tf\n",
    "import tensorflow.keras.backend as K\n",
    "\n",
    "from tensorflow.keras.losses import kld\n",
    "from tensorflow.keras.utils import to_categorical\n",
    "\n",
    "from CustomModels import utils \n",
    "from CustomModels import MyModel_list\n",
    "import CustomModels.metrics as metrics\n",
    "import CustomModels.rank_metrics as rank_metrics\n",
    "\n",
    "from tensorflow.keras import Model\n",
    "# from tensorflow.keras import regularizers\n",
    "from tensorflow.keras.layers import Dense,Input,BatchNormalization,Dropout#,CuDNNLSTM,CuDNNGRU\n",
    "# from tensorflow.keras.preprocessing.sequence import TimeseriesGenerator\n",
    "\n",
    "from sklearn.model_selection import train_test_split\n",
    "import time\n",
    "\n",
    "from IPython.core.display import display, HTML\n",
    "display(HTML(\"<style>.container { width:95% !important; }</style>\"))\n"
   ]
  },
  {
   "cell_type": "markdown",
   "metadata": {},
   "source": [
    "# 2. Neural network model"
   ]
  },
  {
   "cell_type": "markdown",
   "metadata": {},
   "source": [
    " Setting up necessary functions and sanity-checking dataset, actual thing starts at chapter 1. <br>\n",
    " By Sokolov Gleb <br>\n",
    " Part 2 of job application @ ООО ИК QBF"
   ]
  },
  {
   "cell_type": "markdown",
   "metadata": {
    "ExecuteTime": {
     "end_time": "2018-12-12T09:42:14.895881Z",
     "start_time": "2018-12-12T09:42:14.887451Z"
    }
   },
   "source": [
    "## 2.0 Setup"
   ]
  },
  {
   "cell_type": "code",
   "execution_count": 2,
   "metadata": {
    "ExecuteTime": {
     "end_time": "2018-12-13T21:20:55.828575Z",
     "start_time": "2018-12-13T21:20:55.824648Z"
    }
   },
   "outputs": [
    {
     "data": {
      "text/plain": [
       "('1.12.0', '2.1.6-tf')"
      ]
     },
     "execution_count": 2,
     "metadata": {},
     "output_type": "execute_result"
    }
   ],
   "source": [
    "tf.__version__,tf.keras.__version__"
   ]
  },
  {
   "cell_type": "code",
   "execution_count": 3,
   "metadata": {
    "ExecuteTime": {
     "end_time": "2018-12-13T21:20:55.850245Z",
     "start_time": "2018-12-13T21:20:55.830730Z"
    }
   },
   "outputs": [],
   "source": [
    "# wrapper for tf - to - keras metrics usage\n",
    "def as_keras_metric(method):\n",
    "    import functools\n",
    "    @functools.wraps(method)\n",
    "    def wrapper(self, args, **kwargs):\n",
    "        \"\"\" Wrapper for turning tensorflow metrics into keras metrics \"\"\"\n",
    "        value, update_op = method(self, args, **kwargs)\n",
    "        K.get_session().run(tf.local_variables_initializer())\n",
    "        with tf.control_dependencies([update_op]):\n",
    "            value = tf.identity(value)\n",
    "        return value\n",
    "    return wrapper"
   ]
  },
  {
   "cell_type": "code",
   "execution_count": 4,
   "metadata": {
    "ExecuteTime": {
     "end_time": "2018-12-13T21:20:55.873677Z",
     "start_time": "2018-12-13T21:20:55.852509Z"
    }
   },
   "outputs": [],
   "source": [
    "# experimenting with metrics, custom tf metrics is a no go at the moment for Keras \n",
    "ndcg_metric = as_keras_metric(metrics.make_ranking_metric_fn(metrics.RankingMetricKey().DCG))"
   ]
  },
  {
   "cell_type": "code",
   "execution_count": 5,
   "metadata": {
    "ExecuteTime": {
     "end_time": "2018-12-13T21:20:55.899470Z",
     "start_time": "2018-12-13T21:20:55.875988Z"
    }
   },
   "outputs": [],
   "source": [
    "# Testing set at given linear regression problem,things are getting explained in part 1.\n",
    "m = 1000\n",
    "n = 5\n",
    "f = 1\n",
    "qs = ['date_'+str(i) for i in range(m)]\n",
    "qs = np.array(sorted(qs*n))\n",
    "scores = np.random.random(m*n)\n",
    "features = (2*scores+np.random.normal(0,.1,m*n)).reshape((f,-1))\n",
    "#features = np.random.random(m*n*f).reshape((f,-1))\n",
    "features = [fi.astype('float32') for fi in features]\n",
    "feature_names = ['F'+str(i+1) for i in range(f)]"
   ]
  },
  {
   "cell_type": "code",
   "execution_count": 6,
   "metadata": {
    "ExecuteTime": {
     "end_time": "2018-12-13T21:20:55.942791Z",
     "start_time": "2018-12-13T21:20:55.901949Z"
    },
    "scrolled": true
   },
   "outputs": [
    {
     "data": {
      "text/html": [
       "<div>\n",
       "<style scoped>\n",
       "    .dataframe tbody tr th:only-of-type {\n",
       "        vertical-align: middle;\n",
       "    }\n",
       "\n",
       "    .dataframe tbody tr th {\n",
       "        vertical-align: top;\n",
       "    }\n",
       "\n",
       "    .dataframe thead th {\n",
       "        text-align: right;\n",
       "    }\n",
       "</style>\n",
       "<table border=\"1\" class=\"dataframe\">\n",
       "  <thead>\n",
       "    <tr style=\"text-align: right;\">\n",
       "      <th></th>\n",
       "      <th>Q_id</th>\n",
       "      <th>Score</th>\n",
       "      <th>F1</th>\n",
       "    </tr>\n",
       "  </thead>\n",
       "  <tbody>\n",
       "    <tr>\n",
       "      <th>0</th>\n",
       "      <td>date_0</td>\n",
       "      <td>0.580207</td>\n",
       "      <td>1.144994</td>\n",
       "    </tr>\n",
       "    <tr>\n",
       "      <th>1</th>\n",
       "      <td>date_0</td>\n",
       "      <td>0.129083</td>\n",
       "      <td>0.308487</td>\n",
       "    </tr>\n",
       "    <tr>\n",
       "      <th>2</th>\n",
       "      <td>date_0</td>\n",
       "      <td>0.758620</td>\n",
       "      <td>1.647570</td>\n",
       "    </tr>\n",
       "    <tr>\n",
       "      <th>3</th>\n",
       "      <td>date_0</td>\n",
       "      <td>0.617759</td>\n",
       "      <td>0.993599</td>\n",
       "    </tr>\n",
       "    <tr>\n",
       "      <th>4</th>\n",
       "      <td>date_0</td>\n",
       "      <td>0.232930</td>\n",
       "      <td>0.573371</td>\n",
       "    </tr>\n",
       "    <tr>\n",
       "      <th>5</th>\n",
       "      <td>date_1</td>\n",
       "      <td>0.970053</td>\n",
       "      <td>2.014357</td>\n",
       "    </tr>\n",
       "  </tbody>\n",
       "</table>\n",
       "</div>"
      ],
      "text/plain": [
       "     Q_id     Score        F1\n",
       "0  date_0  0.580207  1.144994\n",
       "1  date_0  0.129083  0.308487\n",
       "2  date_0  0.758620  1.647570\n",
       "3  date_0  0.617759  0.993599\n",
       "4  date_0  0.232930  0.573371\n",
       "5  date_1  0.970053  2.014357"
      ]
     },
     "execution_count": 6,
     "metadata": {},
     "output_type": "execute_result"
    }
   ],
   "source": [
    "#Sample dataframe data example \n",
    "df = pd.DataFrame(dict(zip(['Q_id','Score',*feature_names],[qs,scores,*features])))\n",
    "df.head(6)"
   ]
  },
  {
   "cell_type": "code",
   "execution_count": 7,
   "metadata": {
    "ExecuteTime": {
     "end_time": "2018-12-13T21:20:57.145378Z",
     "start_time": "2018-12-13T21:20:55.944606Z"
    }
   },
   "outputs": [],
   "source": [
    "# either this or next block should be run\n",
    "#groupng stocks at each trading day (Queue)\n",
    "d = df.groupby('Q_id').groups.values()\n",
    "X = np.array([df.loc[g,feature_names].values.T[0] for g in d])\n",
    "y = np.array([df.loc[g,'Score'].values for g in d])"
   ]
  },
  {
   "cell_type": "code",
   "execution_count": 8,
   "metadata": {
    "ExecuteTime": {
     "end_time": "2018-12-13T21:20:57.150340Z",
     "start_time": "2018-12-13T21:20:57.146928Z"
    }
   },
   "outputs": [],
   "source": [
    "# Do simple all in one multi-dimensional space\n",
    "X = df[feature_names].values\n",
    "y = df.Score.values.reshape((-1,1))"
   ]
  },
  {
   "cell_type": "markdown",
   "metadata": {},
   "source": [
    "## 2.1. Adaptation of ListNet for ranking stocks"
   ]
  },
  {
   "cell_type": "markdown",
   "metadata": {},
   "source": [
    "First of all, there is no Keras version of Listnet that I found, so lets get educated and implement maths. <br>\n"
   ]
  },
  {
   "cell_type": "markdown",
   "metadata": {},
   "source": [
    "To adapt our problem to ranking scheme, lets get along with great paper for listwise ranking learning: [\"Learning to Rank: From Pairwise Approach to Listwise Approach\"](https://www.microsoft.com/en-us/research/wp-content/uploads/2016/02/tr-2007-40.pdf).<br>\n"
   ]
  },
  {
   "cell_type": "markdown",
   "metadata": {},
   "source": [
    "In training, we have a list of stocks for each trading day: $ D = \\{d^{(1)},d^{(2)}, ... , d^{(n)} \\}$. Each day associated with a list of stocks $ S^{(i)} = \\{s^{(i)}_1, s^{(i)}_2, ... , s^{(i)}_m \\}$. Furthermore, each stock $S^{(i)}$ is associated with list of independent ranking scores $ y^{(i)} = \\{y^{(i)}_1, y^{(i)}_2, ... , y^{(i)}_m \\}$ <br>\n",
    "\n",
    "For now i will go only with $S^{(i)}$ data, droping possible impact of $D$. In the other way it will recuire redoing tensorflow computation graph from scratch, and this research is more of display of skill kinda work.  So $x^{(i)}_j = \\Psi (s^{(i)}_j)$, $i = 1,2,\\dots,n, j = 1,2,\\dots,m$. <br>\n",
    "\n",
    "Each list of features $x^{(i)}= (x^{(i)}_1, x^{(i)}_2, ... , x^{(i)}_m)$ and the corresponding list of given ranks $ y^{(i)} =  (y^{(i)}_1, y^{(i)}_2, ... , y^{(i)}_m )$ then form an \"instance\". Training set can be denoted as $ \\mathcal{T} = \\big\\{ (x^{(i)},y^{(i)}) \\big\\}^m_{i=1}$"
   ]
  },
  {
   "cell_type": "markdown",
   "metadata": {},
   "source": [
    "We then create a ranking function $f$ for each feature vector $x^{(i)}_j$ (corresponding to stock $s^{(i)}_j$) it outputs a score $f(x^{(i)}_j)$. For list of feature vectors we obtain a list of scores $z^{(i)} = \\big(f(x^{(i)}_1),f(x^{(i)}_2),\\dots,f(x^{(i)}_m) \\big)$"
   ]
  },
  {
   "cell_type": "markdown",
   "metadata": {},
   "source": [
    "The objective of learning is formalized as minimization of the total losses with respect to the training data.\n",
    "$$ \\sum_{i=1}^{m} L(y^{(i)},z^{(i)})$$\n",
    "where $L$ is a listwise loss function. I choose to use Jensen-Shannon divergence as loss function:\n",
    "$$ D_{js}(P,Q) = \\frac{1}{2} D_{kl}(P,M) + \\frac{1}{2} D_{kl}(Q,M)$$\n",
    "$$M = \\frac{1}{2}(P+Q) $$\n",
    "$$D_{kl}(P,Q) = - \\sum_{i} P(i) \\log \\bigg(\\frac{Q(i)}{P(i)} \\bigg) $$\n",
    "where P and Q are dicrete probability distributions."
   ]
  },
  {
   "cell_type": "markdown",
   "metadata": {},
   "source": [
    "\n",
    "Model wrapped in its own class, object-oriented-style ( @ `./CustomModels/MyModel_list.py`). Class had some flexible options on how to construct NN model, such as : \n",
    "\n",
    "1. Test/Validation ratio\n",
    "2. Usage of regularization (Elastic, l1 and l2)\n",
    "3. Usage of Dropout layer\n",
    "4. Number of layers\n",
    "5. Number of neurons (in first layer, rest will decay as n//2)\n",
    "6. Epochs, window size, batch size\n",
    "\n",
    "All test are logged in Tensorboard format, stored @ `./data/logs/`"
   ]
  },
  {
   "cell_type": "markdown",
   "metadata": {},
   "source": [
    "At last, lets check our hardware, for running tf on GPU we need NVIDIA-CUDA graphics card, all drivers preinstalled. Im running Linux Manjaro with bumblebee switch, notebook should be started as <br>`[user]$ optirun jupyter-notebook`"
   ]
  },
  {
   "cell_type": "markdown",
   "metadata": {},
   "source": [
    "## 2.2 NN graph (via Tensorboard)"
   ]
  },
  {
   "cell_type": "markdown",
   "metadata": {},
   "source": [
    "![](graph2.png)"
   ]
  },
  {
   "cell_type": "code",
   "execution_count": 2,
   "metadata": {
    "ExecuteTime": {
     "end_time": "2018-12-16T16:27:23.763406Z",
     "start_time": "2018-12-16T16:27:23.755604Z"
    }
   },
   "outputs": [],
   "source": [
    "TEST_SPLIT,VAL_SPLIT = .1, .1\n",
    "N_NEURONS = 64\n",
    "LAYERS = 2\n",
    "FEATURES = 9\n",
    "BATCH = 128\n",
    "EPOCHS = 200\n",
    "DROPOUT = .1\n",
    "TICKER = 'TECH_SECTOR'"
   ]
  },
  {
   "cell_type": "code",
   "execution_count": 3,
   "metadata": {
    "ExecuteTime": {
     "end_time": "2018-12-16T16:27:28.818464Z",
     "start_time": "2018-12-16T16:27:25.436526Z"
    }
   },
   "outputs": [],
   "source": [
    "# market ranks data\n",
    "with open('./data/ranks.pkl','rb') as f:\n",
    "    market = pickle.load(f).asfreq('C').dropna()\n",
    "# on my hardware it runs kinda slow, so i will stick with just one sector\n",
    "# if needed, model can be wraped into function, like it is in ./RNN_1.5*\n",
    "market = market.Technology.dropna()\n",
    "market = market.reindex(sorted(market.columns),axis=1)"
   ]
  },
  {
   "cell_type": "code",
   "execution_count": 4,
   "metadata": {
    "ExecuteTime": {
     "end_time": "2018-12-16T16:27:28.827796Z",
     "start_time": "2018-12-16T16:27:28.820335Z"
    }
   },
   "outputs": [],
   "source": [
    "market = market.iloc[:,:10*5]"
   ]
  },
  {
   "cell_type": "code",
   "execution_count": 100,
   "metadata": {
    "ExecuteTime": {
     "end_time": "2018-12-16T16:20:03.049637Z",
     "start_time": "2018-12-16T16:20:03.045597Z"
    }
   },
   "outputs": [],
   "source": [
    "# X = market.loc[:,(slice(None),(['rank']))][:-1].values\n",
    "# y = market.loc[:,(slice(None),('r_sum'))].shift(-1).dropna().values"
   ]
  },
  {
   "cell_type": "code",
   "execution_count": 6,
   "metadata": {
    "ExecuteTime": {
     "end_time": "2018-12-16T16:27:37.529161Z",
     "start_time": "2018-12-16T16:27:37.491580Z"
    },
    "scrolled": true
   },
   "outputs": [],
   "source": [
    "X = market.loc[:,(slice(None),(['EPS_L4Q_rank', 'EPS_L4Q_rank_m', 'Growth_rank', 'Growth_rank_m',\\\n",
    "                                'P/E_rank', 'PEG_rank', 'PEG_rank_m', 'mom_rank', 'mom_rank_m']))][:-1].values\n",
    "y = market.loc[:,(slice(None),('r_sum_rank_m'))].shift(-1).dropna().values"
   ]
  },
  {
   "cell_type": "code",
   "execution_count": 7,
   "metadata": {
    "ExecuteTime": {
     "end_time": "2018-12-16T16:27:38.387102Z",
     "start_time": "2018-12-16T16:27:38.364872Z"
    }
   },
   "outputs": [
    {
     "data": {
      "text/plain": [
       "((1467, 45), (1467, 5))"
      ]
     },
     "execution_count": 7,
     "metadata": {},
     "output_type": "execute_result"
    }
   ],
   "source": [
    "X.shape,y.shape"
   ]
  },
  {
   "cell_type": "code",
   "execution_count": 15,
   "metadata": {
    "ExecuteTime": {
     "end_time": "2018-12-16T16:28:54.509101Z",
     "start_time": "2018-12-16T16:28:54.467914Z"
    }
   },
   "outputs": [],
   "source": [
    "stock_model = MyModel_list.StockPred(X,y,\n",
    "                                    test_ratio=TEST_SPLIT,\n",
    "                                    val_ratio=VAL_SPLIT,\n",
    "                        ticker=TICKER,\n",
    "                        use_reg = True,\n",
    "                        neurons=N_NEURONS,\n",
    "                        layers=LAYERS,\n",
    "                        features=FEATURES,\n",
    "                        batch_size=BATCH,\n",
    "                        epochs=EPOCHS)"
   ]
  },
  {
   "cell_type": "code",
   "execution_count": 16,
   "metadata": {
    "ExecuteTime": {
     "end_time": "2018-12-16T16:29:24.286435Z",
     "start_time": "2018-12-16T16:28:57.035550Z"
    },
    "scrolled": true
   },
   "outputs": [
    {
     "name": "stdout",
     "output_type": "stream",
     "text": [
      "_________________________________________________________________\n",
      "Layer (type)                 Output Shape              Param #   \n",
      "=================================================================\n",
      "Input (InputLayer)           (None, 9)                 0         \n",
      "_________________________________________________________________\n",
      "Dense_64 (Dense)             (None, 64)                640       \n",
      "_________________________________________________________________\n",
      "Dropout_0.1_0 (Dropout)      (None, 64)                0         \n",
      "_________________________________________________________________\n",
      "Normalization_0 (BatchNormal (None, 64)                256       \n",
      "_________________________________________________________________\n",
      "Dense_32 (Dense)             (None, 32)                2080      \n",
      "_________________________________________________________________\n",
      "Dropout_0.1_1 (Dropout)      (None, 32)                0         \n",
      "_________________________________________________________________\n",
      "Normalization_1 (BatchNormal (None, 32)                128       \n",
      "_________________________________________________________________\n",
      "Output (Dense)               (None, 1)                 33        \n",
      "=================================================================\n",
      "Total params: 3,137\n",
      "Trainable params: 2,945\n",
      "Non-trainable params: 192\n",
      "_________________________________________________________________\n",
      "Train on 5940 samples, validate on 660 samples\n",
      "Epoch 1/200\n",
      "5940/5940 [==============================] - 1s 188us/step - loss: 0.5234 - mean_squared_error: 0.5920 - val_loss: 0.7112 - val_mean_squared_error: 0.4108\n",
      "Epoch 2/200\n",
      "5940/5940 [==============================] - 1s 107us/step - loss: 0.4237 - mean_squared_error: 0.4877 - val_loss: 0.5680 - val_mean_squared_error: 0.5335\n",
      "Epoch 3/200\n",
      "5940/5940 [==============================] - 1s 99us/step - loss: 0.4661 - mean_squared_error: 0.5734 - val_loss: 0.7638 - val_mean_squared_error: 0.8891\n",
      "Epoch 4/200\n",
      "5940/5940 [==============================] - 1s 97us/step - loss: 0.5451 - mean_squared_error: 0.7502 - val_loss: 0.7901 - val_mean_squared_error: 0.8393\n",
      "Epoch 5/200\n",
      "5940/5940 [==============================] - 1s 123us/step - loss: 0.4341 - mean_squared_error: 0.5887 - val_loss: 0.4235 - val_mean_squared_error: 0.5156\n",
      "Epoch 6/200\n",
      "5940/5940 [==============================] - 1s 86us/step - loss: 0.4392 - mean_squared_error: 0.5647 - val_loss: 0.7230 - val_mean_squared_error: 0.5835\n",
      "Epoch 7/200\n",
      "5940/5940 [==============================] - 1s 97us/step - loss: 0.4041 - mean_squared_error: 0.5171 - val_loss: 0.7035 - val_mean_squared_error: 0.4915\n",
      "Epoch 8/200\n",
      "5472/5940 [==========================>...] - ETA: 0s - loss: 0.4435 - mean_squared_error: 0.4882\n",
      "Epoch 00008: ReduceLROnPlateau reducing learning rate to 0.0009000000427477062.\n",
      "5940/5940 [==============================] - 1s 96us/step - loss: 0.4439 - mean_squared_error: 0.4885 - val_loss: 0.5269 - val_mean_squared_error: 0.4376\n",
      "Epoch 9/200\n",
      "5940/5940 [==============================] - 1s 92us/step - loss: 0.4538 - mean_squared_error: 0.4686 - val_loss: 0.5509 - val_mean_squared_error: 0.3544\n",
      "Epoch 10/200\n",
      "5940/5940 [==============================] - 1s 92us/step - loss: 0.4417 - mean_squared_error: 0.4455 - val_loss: 0.7643 - val_mean_squared_error: 0.4417\n",
      "Epoch 11/200\n",
      "5920/5940 [============================>.] - ETA: 0s - loss: 0.4577 - mean_squared_error: 0.4679\n",
      "Epoch 00011: ReduceLROnPlateau reducing learning rate to 0.0008100000384729356.\n",
      "5940/5940 [==============================] - 1s 137us/step - loss: 0.4569 - mean_squared_error: 0.4679 - val_loss: 0.4290 - val_mean_squared_error: 0.4426\n",
      "Epoch 12/200\n",
      "5940/5940 [==============================] - 1s 87us/step - loss: 0.4372 - mean_squared_error: 0.4659 - val_loss: 0.6948 - val_mean_squared_error: 0.4731\n",
      "Epoch 13/200\n",
      "5940/5940 [==============================] - 1s 87us/step - loss: 0.4742 - mean_squared_error: 0.5209 - val_loss: 0.6196 - val_mean_squared_error: 0.6616\n",
      "Epoch 14/200\n",
      "5472/5940 [==========================>...] - ETA: 0s - loss: 0.4825 - mean_squared_error: 0.5315\n",
      "Epoch 00014: ReduceLROnPlateau reducing learning rate to 0.0007290000503417104.\n",
      "5940/5940 [==============================] - 1s 87us/step - loss: 0.4885 - mean_squared_error: 0.5293 - val_loss: 0.6404 - val_mean_squared_error: 0.6065\n",
      "Epoch 15/200\n",
      "5940/5940 [==============================] - 1s 86us/step - loss: 0.4546 - mean_squared_error: 0.4560 - val_loss: 0.4502 - val_mean_squared_error: 0.6262\n",
      "Epoch 16/200\n",
      "5940/5940 [==============================] - 1s 86us/step - loss: 0.5802 - mean_squared_error: 0.7286 - val_loss: 0.4677 - val_mean_squared_error: 0.6530\n",
      "Epoch 17/200\n",
      "5504/5940 [==========================>...] - ETA: 0s - loss: 0.5698 - mean_squared_error: 0.6976\n",
      "Epoch 00017: ReduceLROnPlateau reducing learning rate to 0.0006561000715009868.\n",
      "5940/5940 [==============================] - 1s 88us/step - loss: 0.5706 - mean_squared_error: 0.6937 - val_loss: 0.5016 - val_mean_squared_error: 0.5664\n",
      "Epoch 18/200\n",
      "5940/5940 [==============================] - 1s 88us/step - loss: 0.5188 - mean_squared_error: 0.6382 - val_loss: 0.5424 - val_mean_squared_error: 0.5489\n",
      "Epoch 19/200\n",
      "5940/5940 [==============================] - 1s 85us/step - loss: 0.4837 - mean_squared_error: 0.5967 - val_loss: 0.5154 - val_mean_squared_error: 0.5118\n",
      "Epoch 20/200\n",
      "5568/5940 [===========================>..] - ETA: 0s - loss: 0.4684 - mean_squared_error: 0.5484\n",
      "Epoch 00020: ReduceLROnPlateau reducing learning rate to 0.0005904900433961303.\n",
      "5940/5940 [==============================] - 1s 87us/step - loss: 0.4653 - mean_squared_error: 0.5489 - val_loss: 0.4871 - val_mean_squared_error: 0.4693\n",
      "Epoch 21/200\n",
      "5940/5940 [==============================] - 1s 120us/step - loss: 0.4470 - mean_squared_error: 0.5164 - val_loss: 0.5145 - val_mean_squared_error: 0.4409\n",
      "Epoch 22/200\n",
      "5940/5940 [==============================] - 1s 111us/step - loss: 0.4127 - mean_squared_error: 0.5313 - val_loss: 0.4906 - val_mean_squared_error: 0.5288\n",
      "Epoch 23/200\n",
      "5472/5940 [==========================>...] - ETA: 0s - loss: 0.4577 - mean_squared_error: 0.5945\n",
      "Epoch 00023: ReduceLROnPlateau reducing learning rate to 0.0005314410547725857.\n",
      "5940/5940 [==============================] - 1s 85us/step - loss: 0.4545 - mean_squared_error: 0.5919 - val_loss: 0.4615 - val_mean_squared_error: 0.4742\n",
      "Epoch 24/200\n",
      "5940/5940 [==============================] - 1s 85us/step - loss: 0.4481 - mean_squared_error: 0.5894 - val_loss: 0.4872 - val_mean_squared_error: 0.4932\n",
      "Epoch 25/200\n",
      "5940/5940 [==============================] - 1s 90us/step - loss: 0.4435 - mean_squared_error: 0.5656 - val_loss: 0.4962 - val_mean_squared_error: 0.5049\n",
      "Epoch 26/200\n",
      "5536/5940 [==========================>...] - ETA: 0s - loss: 0.4116 - mean_squared_error: 0.5432\n",
      "Epoch 00026: ReduceLROnPlateau reducing learning rate to 0.00047829695977270604.\n",
      "5940/5940 [==============================] - 1s 88us/step - loss: 0.4093 - mean_squared_error: 0.5414 - val_loss: 0.4789 - val_mean_squared_error: 0.5080\n",
      "Epoch 27/200\n",
      "5940/5940 [==============================] - 0s 83us/step - loss: 0.4269 - mean_squared_error: 0.5546 - val_loss: 0.5365 - val_mean_squared_error: 0.5473\n",
      "Epoch 28/200\n",
      "5940/5940 [==============================] - 1s 85us/step - loss: 0.4087 - mean_squared_error: 0.5150 - val_loss: 0.5228 - val_mean_squared_error: 0.5492\n",
      "Epoch 29/200\n",
      "5728/5940 [===========================>..] - ETA: 0s - loss: 0.4035 - mean_squared_error: 0.4924\n",
      "Epoch 00029: ReduceLROnPlateau reducing learning rate to 0.0004304672533180565.\n",
      "5940/5940 [==============================] - 0s 83us/step - loss: 0.4036 - mean_squared_error: 0.4935 - val_loss: 0.5282 - val_mean_squared_error: 0.5661\n",
      "Epoch 30/200\n",
      "5940/5940 [==============================] - 1s 89us/step - loss: 0.3802 - mean_squared_error: 0.4772 - val_loss: 0.5329 - val_mean_squared_error: 0.5483\n",
      "Epoch 31/200\n",
      "5940/5940 [==============================] - 1s 85us/step - loss: 0.3709 - mean_squared_error: 0.4637 - val_loss: 0.5925 - val_mean_squared_error: 0.5417\n",
      "Epoch 32/200\n",
      "5632/5940 [===========================>..] - ETA: 0s - loss: 0.3589 - mean_squared_error: 0.4606\n",
      "Epoch 00032: ReduceLROnPlateau reducing learning rate to 0.00038742052274756136.\n",
      "5940/5940 [==============================] - 1s 114us/step - loss: 0.3551 - mean_squared_error: 0.4612 - val_loss: 0.5177 - val_mean_squared_error: 0.5117\n"
     ]
    },
    {
     "name": "stdout",
     "output_type": "stream",
     "text": [
      "Epoch 33/200\n",
      "5940/5940 [==============================] - 1s 91us/step - loss: 0.3957 - mean_squared_error: 0.5097 - val_loss: 0.6664 - val_mean_squared_error: 0.5882\n",
      "Epoch 34/200\n",
      "5940/5940 [==============================] - 0s 78us/step - loss: 0.3784 - mean_squared_error: 0.4845 - val_loss: 0.5238 - val_mean_squared_error: 0.5339\n",
      "Epoch 35/200\n",
      "5600/5940 [===========================>..] - ETA: 0s - loss: 0.3971 - mean_squared_error: 0.5115\n",
      "Epoch 00035: ReduceLROnPlateau reducing learning rate to 0.0003486784757114947.\n",
      "5940/5940 [==============================] - 0s 78us/step - loss: 0.3963 - mean_squared_error: 0.5148 - val_loss: 0.6543 - val_mean_squared_error: 0.6396\n",
      "Epoch 36/200\n",
      "5940/5940 [==============================] - 0s 79us/step - loss: 0.4126 - mean_squared_error: 0.5317 - val_loss: 0.6303 - val_mean_squared_error: 0.6031\n",
      "Epoch 37/200\n",
      "5940/5940 [==============================] - 0s 76us/step - loss: 0.3945 - mean_squared_error: 0.5067 - val_loss: 0.5896 - val_mean_squared_error: 0.5644\n",
      "Epoch 38/200\n",
      "5920/5940 [============================>.] - ETA: 0s - loss: 0.3838 - mean_squared_error: 0.5024\n",
      "Epoch 00038: ReduceLROnPlateau reducing learning rate to 0.00031381062290165574.\n",
      "5940/5940 [==============================] - 0s 74us/step - loss: 0.3841 - mean_squared_error: 0.5026 - val_loss: 0.5470 - val_mean_squared_error: 0.5349\n",
      "Epoch 39/200\n",
      "5940/5940 [==============================] - 0s 77us/step - loss: 0.3724 - mean_squared_error: 0.4833 - val_loss: 0.4711 - val_mean_squared_error: 0.5058\n",
      "Epoch 40/200\n",
      "5940/5940 [==============================] - 0s 78us/step - loss: 0.3533 - mean_squared_error: 0.4482 - val_loss: 0.5332 - val_mean_squared_error: 0.4893\n",
      "Epoch 41/200\n",
      "5472/5940 [==========================>...] - ETA: 0s - loss: 0.3756 - mean_squared_error: 0.5094\n",
      "Epoch 00041: ReduceLROnPlateau reducing learning rate to 0.0002824295632308349.\n",
      "5940/5940 [==============================] - 0s 77us/step - loss: 0.3764 - mean_squared_error: 0.5107 - val_loss: 0.6092 - val_mean_squared_error: 0.6219\n",
      "Epoch 42/200\n",
      "5940/5940 [==============================] - 0s 77us/step - loss: 0.3836 - mean_squared_error: 0.5186 - val_loss: 0.6034 - val_mean_squared_error: 0.6184\n",
      "Epoch 43/200\n",
      "5940/5940 [==============================] - 1s 88us/step - loss: 0.3602 - mean_squared_error: 0.5115 - val_loss: 0.5937 - val_mean_squared_error: 0.6097\n",
      "Epoch 44/200\n",
      "5632/5940 [===========================>..] - ETA: 0s - loss: 0.3769 - mean_squared_error: 0.5156\n",
      "Epoch 00044: ReduceLROnPlateau reducing learning rate to 0.00025418660952709616.\n",
      "5940/5940 [==============================] - 1s 124us/step - loss: 0.3798 - mean_squared_error: 0.5162 - val_loss: 0.5997 - val_mean_squared_error: 0.6090\n",
      "Epoch 45/200\n",
      "5940/5940 [==============================] - 1s 85us/step - loss: 0.3858 - mean_squared_error: 0.5133 - val_loss: 0.5923 - val_mean_squared_error: 0.6098\n",
      "Model 16.12-19:28_TECH_SECTOR-200E2L9F128B64N compiled! Calculating accuracy...\n"
     ]
    }
   ],
   "source": [
    "stock_model.gen_model(use_dropout=DROPOUT,use_norm=True)\n",
    "stock_model.model.summary()\n",
    "acc = stock_model.compile(verbose=1)"
   ]
  },
  {
   "cell_type": "code",
   "execution_count": 17,
   "metadata": {
    "ExecuteTime": {
     "end_time": "2018-12-16T16:29:24.375803Z",
     "start_time": "2018-12-16T16:29:24.288456Z"
    }
   },
   "outputs": [],
   "source": [
    "y_pred = stock_model.test_model()"
   ]
  },
  {
   "cell_type": "code",
   "execution_count": 19,
   "metadata": {
    "ExecuteTime": {
     "end_time": "2018-12-16T16:33:13.589239Z",
     "start_time": "2018-12-16T16:33:13.328133Z"
    },
    "scrolled": true
   },
   "outputs": [
    {
     "data": {
      "text/plain": [
       "[<matplotlib.lines.Line2D at 0x7f0eaa72ab00>]"
      ]
     },
     "execution_count": 19,
     "metadata": {},
     "output_type": "execute_result"
    },
    {
     "data": {
      "image/png": "[encoded data removed]",
      "text/plain": [
       "<Figure size 432x288 with 1 Axes>"
      ]
     },
     "metadata": {
      "needs_background": "light"
     },
     "output_type": "display_data"
    }
   ],
   "source": [
    "plt.plot(stock_model.y_test[2::5])\n",
    "plt.plot(y_pred[2::5])"
   ]
  },
  {
   "cell_type": "markdown",
   "metadata": {},
   "source": [
    "## 2.3 Results"
   ]
  },
  {
   "cell_type": "markdown",
   "metadata": {},
   "source": [
    "Plots from tensorboard seems reasonable, our model, probably, learning something  from data"
   ]
  },
  {
   "cell_type": "markdown",
   "metadata": {},
   "source": [
    "![](tensorboard.png)"
   ]
  },
  {
   "cell_type": "markdown",
   "metadata": {},
   "source": [
    "In theory, those plots signaling us, that NN is overfitting half way through: values at validation starts to go up, as metrics and loss goes futher down. Probably we should stop learning at minimum like this:"
   ]
  },
  {
   "cell_type": "markdown",
   "metadata": {},
   "source": [
    "![](graph3.png)"
   ]
  },
  {
   "cell_type": "markdown",
   "metadata": {},
   "source": [
    "As I dont really have much skill at data science, and this is more of display of skill, I wont spent a lot of time (or some money) to do ML-prediction, neverminding that it can be a huge boost over simplier methods.  For our end-score I will use mean  values through all ranks."
   ]
  },
  {
   "cell_type": "markdown",
   "metadata": {},
   "source": [
    "Links\n",
    "1. Original paper: https://www.microsoft.com/en-us/research/wp-content/uploads/2016/02/tr-2007-40.pdf\n",
    "\n",
    "2. JSD: https://en.wikipedia.org/wiki/Jensen–Shannon_divergence\n",
    "3. KLD: https://en.wikipedia.org/wiki/Kullback%E2%80%93Leibler_divergence\n",
    "4. ELU over ReLU https://arxiv.org/abs/1511.07289\n",
    "5. Batch Normalization https://arxiv.org/abs/1502.03167"
   ]
  },
  {
   "cell_type": "code",
   "execution_count": null,
   "metadata": {},
   "outputs": [],
   "source": []
  }
 ],
 "metadata": {
  "kernelspec": {
   "display_name": "Python 3",
   "language": "python",
   "name": "python3"
  },
  "language_info": {
   "codemirror_mode": {
    "name": "ipython",
    "version": 3
   },
   "file_extension": ".py",
   "mimetype": "text/x-python",
   "name": "python",
   "nbconvert_exporter": "python",
   "pygments_lexer": "ipython3",
   "version": "3.7.1"
  }
 },
 "nbformat": 4,
 "nbformat_minor": 2
}
