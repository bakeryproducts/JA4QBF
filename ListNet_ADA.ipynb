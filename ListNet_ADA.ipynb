{
 "cells": [
  {
   "cell_type": "code",
   "execution_count": 1,
   "metadata": {
    "ExecuteTime": {
     "end_time": "2018-12-12T08:27:56.590510Z",
     "start_time": "2018-12-12T08:27:55.082221Z"
    }
   },
   "outputs": [
    {
     "data": {
      "text/html": [
       "<style>.container { width:95% !important; }</style>"
      ],
      "text/plain": [
       "<IPython.core.display.HTML object>"
      ]
     },
     "metadata": {},
     "output_type": "display_data"
    }
   ],
   "source": [
    "import numpy as np\n",
    "import pandas as pd\n",
    "import matplotlib.pyplot as plt\n",
    "import pickle\n",
    "import tensorflow as tf\n",
    "import tensorflow.keras.backend as K\n",
    "\n",
    "from tensorflow.keras.losses import kld\n",
    "from tensorflow.keras.utils import to_categorical\n",
    "\n",
    "from CustomModels import utils \n",
    "import CustomModels.metrics as metrics\n",
    "import CustomModels.rank_metrics as rank_metrics\n",
    "\n",
    "from tensorflow.keras import Model\n",
    "# from tensorflow.keras import regularizers\n",
    "from tensorflow.keras.layers import Dense,Input,BatchNormalization,Dropout#,CuDNNLSTM,CuDNNGRU\n",
    "# from tensorflow.keras.preprocessing.sequence import TimeseriesGenerator\n",
    "\n",
    "from sklearn.model_selection import train_test_split\n",
    "import time\n",
    "\n",
    "from IPython.core.display import display, HTML\n",
    "display(HTML(\"<style>.container { width:95% !important; }</style>\"))\n"
   ]
  },
  {
   "cell_type": "markdown",
   "metadata": {
    "ExecuteTime": {
     "end_time": "2018-12-12T09:42:14.895881Z",
     "start_time": "2018-12-12T09:42:14.887451Z"
    }
   },
   "source": [
    "# 0. Setup"
   ]
  },
  {
   "cell_type": "markdown",
   "metadata": {},
   "source": [
    " Setting up necessary functions and sanity-checking dataset, actual thing starts at chapter 1. <br>\n",
    " By Sokolov Gleb <br>\n",
    " Part of job application @ ООО ИК QBF"
   ]
  },
  {
   "cell_type": "code",
   "execution_count": 2,
   "metadata": {
    "ExecuteTime": {
     "end_time": "2018-12-12T08:27:56.597636Z",
     "start_time": "2018-12-12T08:27:56.592914Z"
    }
   },
   "outputs": [],
   "source": [
    "# K-L divergence and Jensen-Shannon divergence, presumably J-S is better\n",
    "# wiki explaines this https://en.wikipedia.org/wiki/Jensen%E2%80%93Shannon_divergence\n",
    "\n",
    "def ckld(vec_true, vec_compare):\n",
    "    t = vec_true * K.log(vec_true / vec_compare)\n",
    "    t = tf.where(tf.is_nan(t), tf.zeros_like(t), t)\n",
    "    return K.sum(t)\n",
    "\n",
    "def jsd(y_true, y_pred):\n",
    "    y_mean = 0.5 * (y_true + y_pred)\n",
    "    return 0.5 * kld(y_true, y_mean) + 0.5 * kld(y_pred, y_mean)\n"
   ]
  },
  {
   "cell_type": "code",
   "execution_count": 3,
   "metadata": {
    "ExecuteTime": {
     "end_time": "2018-12-12T08:28:00.667918Z",
     "start_time": "2018-12-12T08:28:00.662554Z"
    }
   },
   "outputs": [],
   "source": [
    "# wrapper for tf - to - keras metrics usage\n",
    "def as_keras_metric(method):\n",
    "    import functools\n",
    "    @functools.wraps(method)\n",
    "    def wrapper(self, args, **kwargs):\n",
    "        \"\"\" Wrapper for turning tensorflow metrics into keras metrics \"\"\"\n",
    "        value, update_op = method(self, args, **kwargs)\n",
    "        K.get_session().run(tf.local_variables_initializer())\n",
    "        with tf.control_dependencies([update_op]):\n",
    "            value = tf.identity(value)\n",
    "        return value\n",
    "    return wrapper"
   ]
  },
  {
   "cell_type": "code",
   "execution_count": 4,
   "metadata": {
    "ExecuteTime": {
     "end_time": "2018-12-12T08:28:01.110740Z",
     "start_time": "2018-12-12T08:28:01.106787Z"
    }
   },
   "outputs": [],
   "source": [
    "# experimenting with metrics, custom tf metrics is a no go at the moment for Keras \n",
    "ndcg_metric = as_keras_metric(metrics.make_ranking_metric_fn(metrics.RankingMetricKey().DCG))"
   ]
  },
  {
   "cell_type": "code",
   "execution_count": 237,
   "metadata": {
    "ExecuteTime": {
     "end_time": "2018-12-12T10:51:41.090217Z",
     "start_time": "2018-12-12T10:51:41.040693Z"
    }
   },
   "outputs": [],
   "source": [
    "# Testing set at given linear regression problem,things are getting explained in part 1.\n",
    "m = 1000\n",
    "n = 5\n",
    "f = 1\n",
    "qs = ['date_'+str(i) for i in range(m)]\n",
    "qs = np.array(sorted(qs*n))\n",
    "scores = np.random.random(m*n)\n",
    "features = (2*scores+np.random.normal(0,.1,m*n)).reshape((f,-1))\n",
    "#features = np.random.random(m*n*f).reshape((f,-1))\n",
    "features = [fi.astype('float32') for fi in features]\n",
    "feature_names = ['F'+str(i+1) for i in range(f)]"
   ]
  },
  {
   "cell_type": "code",
   "execution_count": 238,
   "metadata": {
    "ExecuteTime": {
     "end_time": "2018-12-12T10:51:45.726420Z",
     "start_time": "2018-12-12T10:51:45.657836Z"
    },
    "scrolled": true
   },
   "outputs": [
    {
     "data": {
      "text/html": [
       "<div>\n",
       "<style scoped>\n",
       "    .dataframe tbody tr th:only-of-type {\n",
       "        vertical-align: middle;\n",
       "    }\n",
       "\n",
       "    .dataframe tbody tr th {\n",
       "        vertical-align: top;\n",
       "    }\n",
       "\n",
       "    .dataframe thead th {\n",
       "        text-align: right;\n",
       "    }\n",
       "</style>\n",
       "<table border=\"1\" class=\"dataframe\">\n",
       "  <thead>\n",
       "    <tr style=\"text-align: right;\">\n",
       "      <th></th>\n",
       "      <th>Q_id</th>\n",
       "      <th>Score</th>\n",
       "      <th>F1</th>\n",
       "    </tr>\n",
       "  </thead>\n",
       "  <tbody>\n",
       "    <tr>\n",
       "      <th>0</th>\n",
       "      <td>date_0</td>\n",
       "      <td>0.154613</td>\n",
       "      <td>0.349917</td>\n",
       "    </tr>\n",
       "    <tr>\n",
       "      <th>1</th>\n",
       "      <td>date_0</td>\n",
       "      <td>0.202196</td>\n",
       "      <td>0.301570</td>\n",
       "    </tr>\n",
       "    <tr>\n",
       "      <th>2</th>\n",
       "      <td>date_0</td>\n",
       "      <td>0.271071</td>\n",
       "      <td>0.500666</td>\n",
       "    </tr>\n",
       "    <tr>\n",
       "      <th>3</th>\n",
       "      <td>date_0</td>\n",
       "      <td>0.813830</td>\n",
       "      <td>1.622931</td>\n",
       "    </tr>\n",
       "    <tr>\n",
       "      <th>4</th>\n",
       "      <td>date_0</td>\n",
       "      <td>0.732603</td>\n",
       "      <td>1.459348</td>\n",
       "    </tr>\n",
       "    <tr>\n",
       "      <th>5</th>\n",
       "      <td>date_1</td>\n",
       "      <td>0.940675</td>\n",
       "      <td>1.771619</td>\n",
       "    </tr>\n",
       "  </tbody>\n",
       "</table>\n",
       "</div>"
      ],
      "text/plain": [
       "     Q_id     Score        F1\n",
       "0  date_0  0.154613  0.349917\n",
       "1  date_0  0.202196  0.301570\n",
       "2  date_0  0.271071  0.500666\n",
       "3  date_0  0.813830  1.622931\n",
       "4  date_0  0.732603  1.459348\n",
       "5  date_1  0.940675  1.771619"
      ]
     },
     "execution_count": 238,
     "metadata": {},
     "output_type": "execute_result"
    }
   ],
   "source": [
    "#Sample dataframe data example \n",
    "df = pd.DataFrame(dict(zip(['Q_id','Score',*feature_names],[qs,scores,*features])))\n",
    "df.head(6)"
   ]
  },
  {
   "cell_type": "code",
   "execution_count": 239,
   "metadata": {
    "ExecuteTime": {
     "end_time": "2018-12-12T10:51:51.574227Z",
     "start_time": "2018-12-12T10:51:50.038691Z"
    }
   },
   "outputs": [],
   "source": [
    "# either this or next block should be run\n",
    "#groupng stocks at each trading day (Queue)\n",
    "d = df.groupby('Q_id').groups.values()\n",
    "X = np.array([df.loc[g,feature_names].values.T[0] for g in d])\n",
    "y = np.array([df.loc[g,'Score'].values for g in d])"
   ]
  },
  {
   "cell_type": "code",
   "execution_count": 240,
   "metadata": {
    "ExecuteTime": {
     "end_time": "2018-12-12T10:51:51.580684Z",
     "start_time": "2018-12-12T10:51:51.576109Z"
    }
   },
   "outputs": [],
   "source": [
    "# Do simple all in one multi-dimensional space\n",
    "X = df[feature_names].values\n",
    "y = df.Score.values.reshape((-1,1))"
   ]
  },
  {
   "cell_type": "markdown",
   "metadata": {},
   "source": [
    "# 1. Adaptation of ListNet for ranking stocks"
   ]
  },
  {
   "cell_type": "markdown",
   "metadata": {},
   "source": [
    "First of all, there is no Keras version of Listnet that I found, so lets get educated and implement maths. <br>\n"
   ]
  },
  {
   "cell_type": "markdown",
   "metadata": {},
   "source": [
    "To adapt our problem to ranking scheme, lets get along with great paper for listwise ranking learning: \"Learning to Rank: From Pairwise Approach to Listwise Approach\" (https://www.microsoft.com/en-us/research/wp-content/uploads/2016/02/tr-2007-40.pdf).<br>\n"
   ]
  },
  {
   "cell_type": "markdown",
   "metadata": {},
   "source": [
    "In training, we have a list of stocks for each trading day: $ D = \\{d^{(1)},d^{(2)}, ... , d^{(n)} \\}$. Each day associated with a list of stocks $ S^{(i)} = \\{s^{(i)}_1, s^{(i)}_2, ... , s^{(i)}_m \\}$. Furthermore, each stock $S^{(i)}$ is associated with list of independent ranking scores $ y^{(i)} = \\{y^{(i)}_1, y^{(i)}_2, ... , y^{(i)}_m \\}$ <br>\n",
    "\n",
    "For now i will go only with $S^{(i)}$ data, droping possible impact of $D$. In the other way it will recuire redoing tensorflow computation graph from scratch, and this research is more of display of skill kinda work.  So $x^{(i)}_j = \\Psi (s^{(i)}_j)$, $i = 1,2,\\dots,n, j = 1,2,\\dots,m$. <br>\n",
    "\n",
    "Each list of features $x^{(i)}= (x^{(i)}_1, x^{(i)}_2, ... , x^{(i)}_m)$ and the corresponding list of given ranks $ y^{(i)} =  (y^{(i)}_1, y^{(i)}_2, ... , y^{(i)}_m )$ then form an \"instance\". Training set can be denoted as $ \\mathcal{T} = \\big\\{ (x^{(i)},y^{(i)}) \\big\\}^m_{i=1}$"
   ]
  },
  {
   "cell_type": "markdown",
   "metadata": {},
   "source": [
    "We then create a ranking function $f$ for each feature vector $x^{(i)}_j$ (corresponding to stock $s^{(i)}_j$) it outputs a score $f(x^{(i)}_j)$. For list of feature vectors we obtain a list of scores $z^{(i)} = \\big(f(x^{(i)}_1),f(x^{(i)}_2),\\dots,f(x^{(i)}_m) \\big)$"
   ]
  },
  {
   "cell_type": "markdown",
   "metadata": {},
   "source": [
    "The objective of learning is formalized as minimization of the total losses with respect to the training data.\n",
    "$$ \\sum_{i=1}^{m} L(y^{(i)},z^{(i)})$$\n",
    "where $L$ is a listwise loss function. I choose to use Jensen-Shannon divergence as loss function:\n",
    "$$ D_{js}(P,Q) = \\frac{1}{2} D_{kl}(P,M) + \\frac{1}{2} D_{kl}(Q,M)$$\n",
    "$$M = \\frac{1}{2}(P+Q) $$\n",
    "$$D_{kl}(P,Q) = - \\sum_{i} P(i) \\log \\bigg(\\frac{Q(i)}{P(i)} \\bigg) $$\n",
    "where P and Q are dicrete probability distributions. Lets get dangerous!"
   ]
  },
  {
   "cell_type": "code",
   "execution_count": 223,
   "metadata": {
    "ExecuteTime": {
     "end_time": "2018-12-12T10:39:09.196455Z",
     "start_time": "2018-12-12T10:39:09.182630Z"
    }
   },
   "outputs": [],
   "source": [
    "TT_SPLIT_SIZE = .8\n"
   ]
  },
  {
   "cell_type": "code",
   "execution_count": 213,
   "metadata": {
    "ExecuteTime": {
     "end_time": "2018-12-12T10:37:06.809595Z",
     "start_time": "2018-12-12T10:37:06.452894Z"
    }
   },
   "outputs": [],
   "source": [
    "# market ranks data\n",
    "with open('./data/ranks.pkl','rb') as f:\n",
    "    market = pickle.load(f)\n",
    "market = market.Technology.dropna()\n",
    "market = market.reindex(sorted(market.columns),axis=1)"
   ]
  },
  {
   "cell_type": "code",
   "execution_count": 214,
   "metadata": {
    "ExecuteTime": {
     "end_time": "2018-12-12T10:37:06.943937Z",
     "start_time": "2018-12-12T10:37:06.926758Z"
    },
    "scrolled": true
   },
   "outputs": [],
   "source": [
    "X = market.loc[:,(slice(None),('P/E_rank','PEG_rank','MOM_rank'))].values\n",
    "y = market.loc[:,(slice(None),('r_sum_rank'))].values"
   ]
  },
  {
   "cell_type": "code",
   "execution_count": 220,
   "metadata": {
    "ExecuteTime": {
     "end_time": "2018-12-12T10:39:04.160943Z",
     "start_time": "2018-12-12T10:39:04.141585Z"
    },
    "scrolled": true
   },
   "outputs": [
    {
     "data": {
      "text/plain": [
       "((39264, 60), (39264, 20))"
      ]
     },
     "execution_count": 220,
     "metadata": {},
     "output_type": "execute_result"
    }
   ],
   "source": [
    "X.shape,y.shape"
   ]
  },
  {
   "cell_type": "code",
   "execution_count": 224,
   "metadata": {
    "ExecuteTime": {
     "end_time": "2018-12-12T10:39:11.416247Z",
     "start_time": "2018-12-12T10:39:11.340562Z"
    }
   },
   "outputs": [],
   "source": [
    "X_train,X_test,y_train,y_test = train_test_split(X,y,test_size=TT_SPLIT_SIZE,shuffle=False)\n",
    "X_train,X_test = X_train.reshape((-1,3)),X_test.reshape((-1,3))\n",
    "y_train,y_test = y_train.ravel(),y_test.ravel()"
   ]
  },
  {
   "cell_type": "code",
   "execution_count": 225,
   "metadata": {
    "ExecuteTime": {
     "end_time": "2018-12-12T10:39:11.953095Z",
     "start_time": "2018-12-12T10:39:11.928005Z"
    }
   },
   "outputs": [
    {
     "data": {
      "text/plain": [
       "((157040, 3), (628240,))"
      ]
     },
     "execution_count": 225,
     "metadata": {},
     "output_type": "execute_result"
    }
   ],
   "source": [
    "X_train.shape,y_test.shape"
   ]
  },
  {
   "cell_type": "code",
   "execution_count": 228,
   "metadata": {
    "ExecuteTime": {
     "end_time": "2018-12-12T10:39:20.616290Z",
     "start_time": "2018-12-12T10:39:20.594317Z"
    }
   },
   "outputs": [
    {
     "data": {
      "text/plain": [
       "(157040, 1, 3)"
      ]
     },
     "execution_count": 228,
     "metadata": {},
     "output_type": "execute_result"
    }
   ],
   "source": [
    "m,f,n = *X_train.shape,1\n",
    "m,n,f"
   ]
  },
  {
   "cell_type": "code",
   "execution_count": 202,
   "metadata": {
    "ExecuteTime": {
     "end_time": "2018-12-12T10:18:37.966119Z",
     "start_time": "2018-12-12T10:18:37.946480Z"
    }
   },
   "outputs": [],
   "source": [
    "K.clear_session()"
   ]
  },
  {
   "cell_type": "code",
   "execution_count": null,
   "metadata": {
    "ExecuteTime": {
     "end_time": "2018-12-12T10:18:38.788146Z",
     "start_time": "2018-12-12T10:18:38.408753Z"
    }
   },
   "outputs": [],
   "source": [
    "inputs = Input(shape=(f*n,))\n",
    "x = inputs\n",
    "x = Dense(512, activation='relu',kernel_regularizer=tf.keras.regularizers.l1_l2(1e-6,1e-6))(x)\n",
    "x = BatchNormalization()(x)\n",
    "x = Dropout(.2)(x)\n",
    "x = Dense(256, activation='relu',kernel_regularizer=tf.keras.regularizers.l1_l2(1e-6,1e-6))(x)\n",
    "x = BatchNormalization()(x)\n",
    "x = Dropout(.2)(x)\n",
    "#x = Dense(32, activation='relu',activity_regularizer=tf.keras.regularizers.l1_l2(1e-4,1e-4))(x)\n",
    "pred = Dense(1, activation='tanh')(x)\n",
    "\n",
    "model = Model(inputs=inputs, outputs=pred)\n"
   ]
  },
  {
   "cell_type": "code",
   "execution_count": 204,
   "metadata": {
    "ExecuteTime": {
     "end_time": "2018-12-12T10:18:39.912381Z",
     "start_time": "2018-12-12T10:18:39.433038Z"
    },
    "scrolled": false
   },
   "outputs": [],
   "source": [
    "model.compile(optimizer='adam',\n",
    "              metrics=[tf.keras.metrics.mse],\n",
    "              loss=jsd)"
   ]
  },
  {
   "cell_type": "code",
   "execution_count": 209,
   "metadata": {
    "ExecuteTime": {
     "end_time": "2018-12-12T10:20:16.723380Z",
     "start_time": "2018-12-12T10:19:15.517928Z"
    },
    "scrolled": true
   },
   "outputs": [
    {
     "name": "stdout",
     "output_type": "stream",
     "text": [
      "Train on 25128 samples, validate on 6283 samples\n",
      "Epoch 1/50\n",
      "25128/25128 [==============================] - 1s 54us/step - loss: 0.3660 - mean_squared_error: 0.4990 - val_loss: 0.8007 - val_mean_squared_error: 0.6053\n",
      "Epoch 2/50\n",
      "25128/25128 [==============================] - 1s 47us/step - loss: 0.3689 - mean_squared_error: 0.4752 - val_loss: 0.9567 - val_mean_squared_error: 0.7356\n",
      "Epoch 3/50\n",
      "25128/25128 [==============================] - 1s 47us/step - loss: 0.3315 - mean_squared_error: 0.4629 - val_loss: 0.4581 - val_mean_squared_error: 0.4259\n",
      "Epoch 4/50\n",
      "25128/25128 [==============================] - 1s 47us/step - loss: 0.3375 - mean_squared_error: 0.4539 - val_loss: 0.3054 - val_mean_squared_error: 0.3823\n",
      "Epoch 5/50\n",
      "25128/25128 [==============================] - 1s 47us/step - loss: 0.3676 - mean_squared_error: 0.4705 - val_loss: 0.6956 - val_mean_squared_error: 0.5014\n",
      "Epoch 6/50\n",
      "25128/25128 [==============================] - 1s 49us/step - loss: 0.3686 - mean_squared_error: 0.4943 - val_loss: 1.1030 - val_mean_squared_error: 0.7994\n",
      "Epoch 7/50\n",
      "25128/25128 [==============================] - 1s 47us/step - loss: 0.3310 - mean_squared_error: 0.4255 - val_loss: 0.8740 - val_mean_squared_error: 0.5936\n",
      "Epoch 8/50\n",
      "25128/25128 [==============================] - 1s 47us/step - loss: 0.3486 - mean_squared_error: 0.4305 - val_loss: 1.1417 - val_mean_squared_error: 0.8733\n",
      "Epoch 9/50\n",
      "25128/25128 [==============================] - 1s 48us/step - loss: 0.3436 - mean_squared_error: 0.4436 - val_loss: 0.2900 - val_mean_squared_error: 0.3251\n",
      "Epoch 10/50\n",
      "25128/25128 [==============================] - 1s 47us/step - loss: 0.3519 - mean_squared_error: 0.4542 - val_loss: 0.2506 - val_mean_squared_error: 0.2713\n",
      "Epoch 11/50\n",
      "25128/25128 [==============================] - 1s 48us/step - loss: 0.3883 - mean_squared_error: 0.5169 - val_loss: 0.9511 - val_mean_squared_error: 0.7545\n",
      "Epoch 12/50\n",
      "25128/25128 [==============================] - 1s 49us/step - loss: 0.3385 - mean_squared_error: 0.4910 - val_loss: 0.2937 - val_mean_squared_error: 0.3831\n",
      "Epoch 13/50\n",
      "25128/25128 [==============================] - 1s 48us/step - loss: 0.3135 - mean_squared_error: 0.4643 - val_loss: 0.4519 - val_mean_squared_error: 0.4796\n",
      "Epoch 14/50\n",
      "25128/25128 [==============================] - 1s 48us/step - loss: 0.3264 - mean_squared_error: 0.4504 - val_loss: 0.2657 - val_mean_squared_error: 0.3437\n",
      "Epoch 15/50\n",
      "25128/25128 [==============================] - 1s 48us/step - loss: 0.3326 - mean_squared_error: 0.5155 - val_loss: 0.9036 - val_mean_squared_error: 0.6918\n",
      "Epoch 16/50\n",
      "25128/25128 [==============================] - 1s 48us/step - loss: 0.3196 - mean_squared_error: 0.5025 - val_loss: 0.2902 - val_mean_squared_error: 0.2825\n",
      "Epoch 17/50\n",
      "25128/25128 [==============================] - 1s 48us/step - loss: 0.2944 - mean_squared_error: 0.4400 - val_loss: 0.3836 - val_mean_squared_error: 0.4916\n",
      "Epoch 18/50\n",
      "25128/25128 [==============================] - 1s 49us/step - loss: 0.3804 - mean_squared_error: 0.5026 - val_loss: 1.0101 - val_mean_squared_error: 0.7650\n",
      "Epoch 19/50\n",
      "25128/25128 [==============================] - 1s 48us/step - loss: 0.3595 - mean_squared_error: 0.4846 - val_loss: 0.3583 - val_mean_squared_error: 0.3038\n",
      "Epoch 20/50\n",
      "25128/25128 [==============================] - 1s 48us/step - loss: 0.3385 - mean_squared_error: 0.4770 - val_loss: 0.2729 - val_mean_squared_error: 0.2585\n",
      "Epoch 21/50\n",
      "25128/25128 [==============================] - 1s 50us/step - loss: 0.3300 - mean_squared_error: 0.4722 - val_loss: 0.2087 - val_mean_squared_error: 0.2055\n",
      "Epoch 22/50\n",
      "25128/25128 [==============================] - 1s 48us/step - loss: 0.3094 - mean_squared_error: 0.4641 - val_loss: 0.1460 - val_mean_squared_error: 0.1985\n",
      "Epoch 23/50\n",
      "25128/25128 [==============================] - 1s 49us/step - loss: 0.2886 - mean_squared_error: 0.4668 - val_loss: 0.2211 - val_mean_squared_error: 0.1657\n",
      "Epoch 24/50\n",
      "25128/25128 [==============================] - 1s 48us/step - loss: 0.2708 - mean_squared_error: 0.4553 - val_loss: 0.2706 - val_mean_squared_error: 0.1824\n",
      "Epoch 25/50\n",
      "25128/25128 [==============================] - 1s 50us/step - loss: 0.2717 - mean_squared_error: 0.4399 - val_loss: 0.2367 - val_mean_squared_error: 0.1516\n",
      "Epoch 26/50\n",
      "25128/25128 [==============================] - 1s 48us/step - loss: 0.3008 - mean_squared_error: 0.4803 - val_loss: 0.2816 - val_mean_squared_error: 0.2528\n",
      "Epoch 27/50\n",
      "25128/25128 [==============================] - 1s 49us/step - loss: 0.2892 - mean_squared_error: 0.4645 - val_loss: 0.3003 - val_mean_squared_error: 0.2003\n",
      "Epoch 28/50\n",
      "25128/25128 [==============================] - 1s 48us/step - loss: 0.2940 - mean_squared_error: 0.4596 - val_loss: 0.2860 - val_mean_squared_error: 0.2176\n",
      "Epoch 29/50\n",
      "25128/25128 [==============================] - 1s 49us/step - loss: 0.2866 - mean_squared_error: 0.4568 - val_loss: 0.2934 - val_mean_squared_error: 0.2245\n",
      "Epoch 30/50\n",
      "25128/25128 [==============================] - 1s 50us/step - loss: 0.2929 - mean_squared_error: 0.4624 - val_loss: 0.2377 - val_mean_squared_error: 0.2004\n",
      "Epoch 31/50\n",
      "25128/25128 [==============================] - 1s 51us/step - loss: 0.3078 - mean_squared_error: 0.4786 - val_loss: 0.1973 - val_mean_squared_error: 0.1459\n",
      "Epoch 32/50\n",
      "25128/25128 [==============================] - 1s 49us/step - loss: 0.2858 - mean_squared_error: 0.4471 - val_loss: 0.2617 - val_mean_squared_error: 0.2043\n",
      "Epoch 33/50\n",
      "25128/25128 [==============================] - 1s 49us/step - loss: 0.2726 - mean_squared_error: 0.4262 - val_loss: 0.2307 - val_mean_squared_error: 0.2033\n",
      "Epoch 34/50\n",
      "25128/25128 [==============================] - 1s 48us/step - loss: 0.2678 - mean_squared_error: 0.4239 - val_loss: 0.4919 - val_mean_squared_error: 0.4283\n",
      "Epoch 35/50\n",
      "25128/25128 [==============================] - 1s 50us/step - loss: 0.2697 - mean_squared_error: 0.4333 - val_loss: 0.3760 - val_mean_squared_error: 0.4017\n",
      "Epoch 36/50\n",
      "25128/25128 [==============================] - 1s 48us/step - loss: 0.2943 - mean_squared_error: 0.4648 - val_loss: 0.3615 - val_mean_squared_error: 0.5317\n",
      "Epoch 37/50\n",
      "25128/25128 [==============================] - 1s 49us/step - loss: 0.3038 - mean_squared_error: 0.4556 - val_loss: 0.2917 - val_mean_squared_error: 0.5162\n",
      "Epoch 38/50\n",
      "25128/25128 [==============================] - 1s 53us/step - loss: 0.3022 - mean_squared_error: 0.4402 - val_loss: 0.1981 - val_mean_squared_error: 0.2229\n",
      "Epoch 39/50\n",
      "25128/25128 [==============================] - 1s 48us/step - loss: 0.2723 - mean_squared_error: 0.4036 - val_loss: 0.2470 - val_mean_squared_error: 0.2119\n",
      "Epoch 40/50\n",
      "25128/25128 [==============================] - 1s 50us/step - loss: 0.2792 - mean_squared_error: 0.4028 - val_loss: 0.3444 - val_mean_squared_error: 0.2589\n",
      "Epoch 41/50\n",
      "25128/25128 [==============================] - 1s 50us/step - loss: 0.3097 - mean_squared_error: 0.4192 - val_loss: 0.4143 - val_mean_squared_error: 0.3143\n",
      "Epoch 42/50\n",
      "25128/25128 [==============================] - 1s 51us/step - loss: 0.3133 - mean_squared_error: 0.4301 - val_loss: 0.4581 - val_mean_squared_error: 0.3818\n",
      "Epoch 43/50\n",
      "25128/25128 [==============================] - 1s 49us/step - loss: 0.3133 - mean_squared_error: 0.4337 - val_loss: 0.5064 - val_mean_squared_error: 0.4134\n",
      "Epoch 44/50\n",
      "25128/25128 [==============================] - 1s 48us/step - loss: 0.3129 - mean_squared_error: 0.4321 - val_loss: 0.3786 - val_mean_squared_error: 0.2646\n",
      "Epoch 45/50\n",
      "25128/25128 [==============================] - 1s 49us/step - loss: 0.3192 - mean_squared_error: 0.4983 - val_loss: 0.8348 - val_mean_squared_error: 0.6421\n",
      "Epoch 46/50\n",
      "25128/25128 [==============================] - 1s 52us/step - loss: 0.3160 - mean_squared_error: 0.5045 - val_loss: 0.5878 - val_mean_squared_error: 0.4460\n",
      "Epoch 47/50\n",
      "25128/25128 [==============================] - 1s 48us/step - loss: 0.2918 - mean_squared_error: 0.4714 - val_loss: 0.5815 - val_mean_squared_error: 0.4153\n",
      "Epoch 48/50\n",
      "25128/25128 [==============================] - 1s 49us/step - loss: 0.2873 - mean_squared_error: 0.4431 - val_loss: 0.5826 - val_mean_squared_error: 0.4356\n",
      "Epoch 49/50\n"
     ]
    },
    {
     "name": "stdout",
     "output_type": "stream",
     "text": [
      "25128/25128 [==============================] - 1s 46us/step - loss: 0.2886 - mean_squared_error: 0.4143 - val_loss: 0.6654 - val_mean_squared_error: 0.5147\n",
      "Epoch 50/50\n",
      "25128/25128 [==============================] - 1s 44us/step - loss: 0.3509 - mean_squared_error: 0.5090 - val_loss: 0.6623 - val_mean_squared_error: 0.5240\n"
     ]
    },
    {
     "data": {
      "text/plain": [
       "<tensorflow.python.keras.callbacks.History at 0x7f07526f95f8>"
      ]
     },
     "execution_count": 209,
     "metadata": {},
     "output_type": "execute_result"
    }
   ],
   "source": [
    "model.fit(X_train,y_train,\n",
    "          batch_size=128,\n",
    "          epochs=50,\n",
    "          verbose=1,\n",
    "          validation_split=.2,\n",
    "          shuffle=True)"
   ]
  },
  {
   "cell_type": "code",
   "execution_count": 210,
   "metadata": {
    "ExecuteTime": {
     "end_time": "2018-12-12T10:21:27.171175Z",
     "start_time": "2018-12-12T10:21:26.802022Z"
    }
   },
   "outputs": [],
   "source": [
    "y_pred = model.predict(X_test)\n",
    "#y_pred = np.argmax(y_pred,axis=1).astype(int)"
   ]
  },
  {
   "cell_type": "code",
   "execution_count": 212,
   "metadata": {
    "ExecuteTime": {
     "end_time": "2018-12-12T10:21:29.064580Z",
     "start_time": "2018-12-12T10:21:28.434459Z"
    },
    "scrolled": true
   },
   "outputs": [
    {
     "data": {
      "text/plain": [
       "[<matplotlib.lines.Line2D at 0x7f07503abb70>]"
      ]
     },
     "execution_count": 212,
     "metadata": {},
     "output_type": "execute_result"
    },
    {
     "data": {
      "image/png": "[encoded data removed]",
      "text/plain": [
       "<Figure size 432x288 with 1 Axes>"
      ]
     },
     "metadata": {
      "needs_background": "light"
     },
     "output_type": "display_data"
    }
   ],
   "source": [
    "plt.plot(y_test)#[1::20])\n",
    "plt.plot(y_pred/2)#[1::20]/2)"
   ]
  },
  {
   "cell_type": "markdown",
   "metadata": {},
   "source": [
    "Links\n",
    "1. Original paper: https://www.microsoft.com/en-us/research/wp-content/uploads/2016/02/tr-2007-40.pdf\n",
    "\n",
    "2. JSD: https://en.wikipedia.org/wiki/Jensen–Shannon_divergence\n",
    "3. KLD: https://en.wikipedia.org/wiki/Kullback%E2%80%93Leibler_divergence"
   ]
  },
  {
   "cell_type": "code",
   "execution_count": null,
   "metadata": {},
   "outputs": [],
   "source": []
  },
  {
   "cell_type": "code",
   "execution_count": null,
   "metadata": {},
   "outputs": [],
   "source": []
  },
  {
   "cell_type": "code",
   "execution_count": null,
   "metadata": {},
   "outputs": [],
   "source": []
  },
  {
   "cell_type": "code",
   "execution_count": 20,
   "metadata": {
    "ExecuteTime": {
     "end_time": "2018-12-11T18:37:27.334921Z",
     "start_time": "2018-12-11T18:37:22.276723Z"
    },
    "scrolled": false
   },
   "outputs": [],
   "source": [
    "ls = []\n",
    "for i in np.arange(0,100,2):\n",
    "    t = 100\n",
    "    a = np.random.random(t)#np.arange(t)/10\n",
    "    b = a[:]#np.arange(t)/10\n",
    "\n",
    "    k=i\n",
    "    b = np.append(b[:k],np.random.random(t-k)/10)\n",
    "\n",
    "    a = tf.constant(a)\n",
    "    b = tf.constant(b)\n",
    "\n",
    "    t = jsd(a,b)\n",
    "\n",
    "    with tf.Session() as sess:\n",
    "        sess.run(tf.global_variables_initializer())\n",
    "        ls.append(sess.run(t))"
   ]
  },
  {
   "cell_type": "code",
   "execution_count": 21,
   "metadata": {
    "ExecuteTime": {
     "end_time": "2018-12-11T18:37:29.907775Z",
     "start_time": "2018-12-11T18:37:29.727479Z"
    }
   },
   "outputs": [
    {
     "data": {
      "text/plain": [
       "[<matplotlib.lines.Line2D at 0x7f6ddb808240>]"
      ]
     },
     "execution_count": 21,
     "metadata": {},
     "output_type": "execute_result"
    },
    {
     "data": {
      "image/png": "[encoded data removed]",
      "text/plain": [
       "<Figure size 432x288 with 1 Axes>"
      ]
     },
     "metadata": {
      "needs_background": "light"
     },
     "output_type": "display_data"
    }
   ],
   "source": [
    "plt.plot(ls)"
   ]
  },
  {
   "cell_type": "code",
   "execution_count": null,
   "metadata": {},
   "outputs": [],
   "source": []
  }
 ],
 "metadata": {
  "kernelspec": {
   "display_name": "Python 3",
   "language": "python",
   "name": "python3"
  },
  "language_info": {
   "codemirror_mode": {
    "name": "ipython",
    "version": 3
   },
   "file_extension": ".py",
   "mimetype": "text/x-python",
   "name": "python",
   "nbconvert_exporter": "python",
   "pygments_lexer": "ipython3",
   "version": "3.7.1"
  }
 },
 "nbformat": 4,
 "nbformat_minor": 2
}
