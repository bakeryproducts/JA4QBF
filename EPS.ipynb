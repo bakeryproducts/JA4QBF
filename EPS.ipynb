{
 "cells": [
  {
   "cell_type": "code",
   "execution_count": 1,
   "metadata": {
    "ExecuteTime": {
     "end_time": "2018-12-12T14:09:53.087783Z",
     "start_time": "2018-12-12T14:09:52.065818Z"
    }
   },
   "outputs": [
    {
     "data": {
      "text/html": [
       "<style>.container { width:95% !important; }</style>"
      ],
      "text/plain": [
       "<IPython.core.display.HTML object>"
      ]
     },
     "metadata": {},
     "output_type": "display_data"
    }
   ],
   "source": [
    "import pandas as pd\n",
    "import numpy as np\n",
    "import pandas_profiling \n",
    "import matplotlib.pyplot as plt\n",
    "import pickle \n",
    "\n",
    "from pandas_datareader import data as pdr\n",
    "import fix_yahoo_finance as yf\n",
    "yf.pdr_override()\n",
    "\n",
    "%matplotlib inline\n",
    "from IPython.core.display import display, HTML\n",
    "display(HTML(\"<style>.container { width:95% !important; }</style>\"))\n"
   ]
  },
  {
   "cell_type": "code",
   "execution_count": 4,
   "metadata": {
    "ExecuteTime": {
     "end_time": "2018-12-09T10:20:44.822210Z",
     "start_time": "2018-12-09T10:20:44.358216Z"
    }
   },
   "outputs": [],
   "source": [
    "with open('./data/market_data_pd.pkl','rb') as f:\n",
    "    data_all = pickle.load(f)"
   ]
  },
  {
   "cell_type": "code",
   "execution_count": 5,
   "metadata": {
    "ExecuteTime": {
     "end_time": "2018-12-09T10:20:45.027840Z",
     "start_time": "2018-12-09T10:20:45.007975Z"
    }
   },
   "outputs": [],
   "source": [
    "tickers = data_all.columns.levels[1].values\n"
   ]
  },
  {
   "cell_type": "code",
   "execution_count": 32,
   "metadata": {
    "ExecuteTime": {
     "end_time": "2018-11-29T11:06:57.671095Z",
     "start_time": "2018-11-29T11:06:57.644999Z"
    },
    "scrolled": false
   },
   "outputs": [
    {
     "data": {
      "text/html": [
       "<div>\n",
       "<style scoped>\n",
       "    .dataframe tbody tr th:only-of-type {\n",
       "        vertical-align: middle;\n",
       "    }\n",
       "\n",
       "    .dataframe tbody tr th {\n",
       "        vertical-align: top;\n",
       "    }\n",
       "\n",
       "    .dataframe thead th {\n",
       "        text-align: right;\n",
       "    }\n",
       "</style>\n",
       "<table border=\"1\" class=\"dataframe\">\n",
       "  <thead>\n",
       "    <tr style=\"text-align: right;\">\n",
       "      <th></th>\n",
       "      <th>Dividend Amount</th>\n",
       "      <th>Declared Date</th>\n",
       "      <th>Ex-Date</th>\n",
       "      <th>Dividend Type</th>\n",
       "      <th>Payable Date</th>\n",
       "      <th>Dividend Frequency</th>\n",
       "    </tr>\n",
       "    <tr>\n",
       "      <th>Record Date</th>\n",
       "      <th></th>\n",
       "      <th></th>\n",
       "      <th></th>\n",
       "      <th></th>\n",
       "      <th></th>\n",
       "      <th></th>\n",
       "    </tr>\n",
       "  </thead>\n",
       "  <tbody>\n",
       "    <tr>\n",
       "      <th>NaT</th>\n",
       "      <td>-2.424536e-14</td>\n",
       "      <td>2017-07-21</td>\n",
       "      <td>2017-05-04</td>\n",
       "      <td>Discontinued</td>\n",
       "      <td>NaN</td>\n",
       "      <td>Suspend</td>\n",
       "    </tr>\n",
       "    <tr>\n",
       "      <th>NaT</th>\n",
       "      <td>-2.424536e-14</td>\n",
       "      <td>2017-07-21</td>\n",
       "      <td>2017-02-10</td>\n",
       "      <td>Omitted</td>\n",
       "      <td>NaN</td>\n",
       "      <td>Quarter</td>\n",
       "    </tr>\n",
       "    <tr>\n",
       "      <th>NaT</th>\n",
       "      <td>-2.424536e-14</td>\n",
       "      <td>2017-07-21</td>\n",
       "      <td>2016-11-04</td>\n",
       "      <td>Omitted</td>\n",
       "      <td>NaN</td>\n",
       "      <td>Quarter</td>\n",
       "    </tr>\n",
       "    <tr>\n",
       "      <th>NaT</th>\n",
       "      <td>1.339552e+00</td>\n",
       "      <td>2016-10-13</td>\n",
       "      <td>2016-11-01</td>\n",
       "      <td>Stock Split</td>\n",
       "      <td>NaN</td>\n",
       "      <td>None</td>\n",
       "    </tr>\n",
       "    <tr>\n",
       "      <th>NaT</th>\n",
       "      <td>3.333330e-01</td>\n",
       "      <td>2016-07-27</td>\n",
       "      <td>2016-10-06</td>\n",
       "      <td>Stock Split</td>\n",
       "      <td>NaN</td>\n",
       "      <td>None</td>\n",
       "    </tr>\n",
       "  </tbody>\n",
       "</table>\n",
       "</div>"
      ],
      "text/plain": [
       "             Dividend Amount Declared Date     Ex-Date Dividend Type  \\\n",
       "Record Date                                                            \n",
       "NaT            -2.424536e-14    2017-07-21  2017-05-04  Discontinued   \n",
       "NaT            -2.424536e-14    2017-07-21  2017-02-10       Omitted   \n",
       "NaT            -2.424536e-14    2017-07-21  2016-11-04       Omitted   \n",
       "NaT             1.339552e+00    2016-10-13  2016-11-01   Stock Split   \n",
       "NaT             3.333330e-01    2016-07-27  2016-10-06   Stock Split   \n",
       "\n",
       "            Payable Date Dividend Frequency  \n",
       "Record Date                                  \n",
       "NaT                  NaN            Suspend  \n",
       "NaT                  NaN            Quarter  \n",
       "NaT                  NaN            Quarter  \n",
       "NaT                  NaN               None  \n",
       "NaT                  NaN               None  "
      ]
     },
     "execution_count": 32,
     "metadata": {},
     "output_type": "execute_result"
    }
   ],
   "source": [
    "df = pd.read_csv('./data/div_data/AA.csv',index_col='Record Date')\n",
    "df.index = pd.to_datetime(df.index)\n",
    "df.head()"
   ]
  },
  {
   "cell_type": "code",
   "execution_count": 30,
   "metadata": {
    "ExecuteTime": {
     "end_time": "2018-11-29T11:06:03.216923Z",
     "start_time": "2018-11-29T11:06:01.506201Z"
    }
   },
   "outputs": [],
   "source": [
    "df = pd.DataFrame()\n",
    "wo_div,w_div = [],[]\n",
    "splits = {}\n",
    "\n",
    "for i,ticker in enumerate(tickers):\n",
    "    try:\n",
    "        DIVdf = pd.read_csv(f'./data/div_data/{ticker}.csv')\n",
    "        if DIVdf['Dividend Type'].isin(['Stock Split']).sum():\n",
    "            t = DIVdf.where(DIVdf['Dividend Type']=='Stock Split')\n",
    "            vals = t[['Dividend Amount','Ex-Date']][::-1].dropna().values\n",
    "            #print(vals)\n",
    "            splits[ticker] = vals\n",
    "        #w_div.append(ticker)\n",
    "    except Exception as e:\n",
    "        wo_div.append(ticker)\n",
    "    \n",
    "# w_div = [ticker for ticker in tickers if ticker not in wo_div]\n"
   ]
  },
  {
   "cell_type": "code",
   "execution_count": 33,
   "metadata": {
    "ExecuteTime": {
     "end_time": "2018-11-29T11:07:42.741549Z",
     "start_time": "2018-11-29T11:07:42.730628Z"
    }
   },
   "outputs": [],
   "source": [
    "with open('./data/splits.pkl','wb') as f:\n",
    "    pickle.dump(splits,f)"
   ]
  },
  {
   "cell_type": "code",
   "execution_count": 29,
   "metadata": {},
   "outputs": [
    {
     "name": "stdout",
     "output_type": "stream",
     "text": [
      "ETFC\n",
      "FB\n",
      "LVLT\n",
      "QRVO\n",
      "THC\n",
      "TMUS\n"
     ]
    }
   ],
   "source": [
    "df = pd.DataFrame()\n",
    "tdfs = []\n",
    "for i,ticker in enumerate(w_div):\n",
    "    try:\n",
    "        DIVdf = pd.read_csv(f'./data/div_data/{ticker}.csv')\n",
    "        DIVdf.dropna(inplace=True)\n",
    "        tdf = DIVdf[['Dividend Amount','Dividend Type']]\n",
    "        tdf.columns = [f'{ticker}_DA',f'{ticker}_DT']\n",
    "        tdf.index = pd.to_datetime(DIVdf['Record Date'])\n",
    "        tdf = tdf.loc[~tdf.index.duplicated(keep='first')]\n",
    "        tdf.iloc[0]\n",
    "        tdfs.append(tdf)\n",
    "        #df = pd.concat([df,tdf],axis=1)\n",
    "    except Exception as e:\n",
    "        #print(e)\n",
    "        print(ticker)"
   ]
  },
  {
   "cell_type": "code",
   "execution_count": 176,
   "metadata": {},
   "outputs": [],
   "source": [
    "ts = np.array([(t.shape[0],t.columns) for t in tdfs])"
   ]
  },
  {
   "cell_type": "code",
   "execution_count": 178,
   "metadata": {},
   "outputs": [
    {
     "data": {
      "text/plain": [
       "[<matplotlib.lines.Line2D at 0x7fe89f35dda0>]"
      ]
     },
     "execution_count": 178,
     "metadata": {},
     "output_type": "execute_result"
    },
    {
     "data": {
      "image/png": "[encoded data removed]",
      "text/plain": [
       "<Figure size 432x288 with 1 Axes>"
      ]
     },
     "metadata": {
      "needs_background": "light"
     },
     "output_type": "display_data"
    }
   ],
   "source": [
    "plt.plot(ts[:,0])"
   ]
  },
  {
   "cell_type": "markdown",
   "metadata": {},
   "source": [
    "# Earnings per share"
   ]
  },
  {
   "cell_type": "code",
   "execution_count": 2,
   "metadata": {
    "ExecuteTime": {
     "end_time": "2018-12-12T14:09:56.477958Z",
     "start_time": "2018-12-12T14:09:56.362801Z"
    },
    "scrolled": true
   },
   "outputs": [
    {
     "data": {
      "text/html": [
       "<div>\n",
       "<style scoped>\n",
       "    .dataframe tbody tr th:only-of-type {\n",
       "        vertical-align: middle;\n",
       "    }\n",
       "\n",
       "    .dataframe tbody tr th {\n",
       "        vertical-align: top;\n",
       "    }\n",
       "\n",
       "    .dataframe thead th {\n",
       "        text-align: right;\n",
       "    }\n",
       "</style>\n",
       "<table border=\"1\" class=\"dataframe\">\n",
       "  <thead>\n",
       "    <tr style=\"text-align: right;\">\n",
       "      <th></th>\n",
       "      <th>Comparable EPS</th>\n",
       "      <th>Year/Period</th>\n",
       "      <th>Earnings EPS</th>\n",
       "      <th>Announcement Time</th>\n",
       "      <th>Estimate EPS</th>\n",
       "      <th>delta</th>\n",
       "      <th>surprise</th>\n",
       "      <th>Trailing_EPS</th>\n",
       "      <th>Growth</th>\n",
       "    </tr>\n",
       "    <tr>\n",
       "      <th>Announcement Date</th>\n",
       "      <th></th>\n",
       "      <th></th>\n",
       "      <th></th>\n",
       "      <th></th>\n",
       "      <th></th>\n",
       "      <th></th>\n",
       "      <th></th>\n",
       "      <th></th>\n",
       "      <th></th>\n",
       "    </tr>\n",
       "  </thead>\n",
       "  <tbody>\n",
       "    <tr>\n",
       "      <th>2010-01-21</th>\n",
       "      <td>6.1132</td>\n",
       "      <td>2009:Q4</td>\n",
       "      <td>6.1132</td>\n",
       "      <td>16:01</td>\n",
       "      <td>2.832</td>\n",
       "      <td>3.2812</td>\n",
       "      <td>NaN</td>\n",
       "      <td>NaN</td>\n",
       "      <td>NaN</td>\n",
       "    </tr>\n",
       "    <tr>\n",
       "      <th>2010-04-15</th>\n",
       "      <td>6.0434</td>\n",
       "      <td>2010:Q1</td>\n",
       "      <td>6.0434</td>\n",
       "      <td>16:01</td>\n",
       "      <td>2.908</td>\n",
       "      <td>3.1354</td>\n",
       "      <td>NaN</td>\n",
       "      <td>NaN</td>\n",
       "      <td>NaN</td>\n",
       "    </tr>\n",
       "    <tr>\n",
       "      <th>2010-07-15</th>\n",
       "      <td>5.6944</td>\n",
       "      <td>2010:Q2</td>\n",
       "      <td>5.6944</td>\n",
       "      <td>16:36</td>\n",
       "      <td>2.871</td>\n",
       "      <td>2.8234</td>\n",
       "      <td>12.072309</td>\n",
       "      <td>NaN</td>\n",
       "      <td>NaN</td>\n",
       "    </tr>\n",
       "    <tr>\n",
       "      <th>2010-10-14</th>\n",
       "      <td>6.7016</td>\n",
       "      <td>2010:Q3</td>\n",
       "      <td>6.7016</td>\n",
       "      <td>16:35</td>\n",
       "      <td>2.947</td>\n",
       "      <td>3.7546</td>\n",
       "      <td>7.921596</td>\n",
       "      <td>24.5526</td>\n",
       "      <td>NaN</td>\n",
       "    </tr>\n",
       "    <tr>\n",
       "      <th>2011-01-20</th>\n",
       "      <td>7.7886</td>\n",
       "      <td>2010:Q4</td>\n",
       "      <td>7.7886</td>\n",
       "      <td>Aft-mkt</td>\n",
       "      <td>3.577</td>\n",
       "      <td>4.2116</td>\n",
       "      <td>5.953045</td>\n",
       "      <td>26.2280</td>\n",
       "      <td>6.747718</td>\n",
       "    </tr>\n",
       "    <tr>\n",
       "      <th>2011-04-14</th>\n",
       "      <td>7.0207</td>\n",
       "      <td>2011:Q1</td>\n",
       "      <td>5.4949</td>\n",
       "      <td>Aft-mkt</td>\n",
       "      <td>3.569</td>\n",
       "      <td>3.4517</td>\n",
       "      <td>9.022984</td>\n",
       "      <td>25.6795</td>\n",
       "      <td>-0.329197</td>\n",
       "    </tr>\n",
       "    <tr>\n",
       "      <th>2011-07-14</th>\n",
       "      <td>7.6590</td>\n",
       "      <td>2011:Q2</td>\n",
       "      <td>7.6590</td>\n",
       "      <td>17:14</td>\n",
       "      <td>3.402</td>\n",
       "      <td>4.2570</td>\n",
       "      <td>9.409727</td>\n",
       "      <td>27.6441</td>\n",
       "      <td>10.960475</td>\n",
       "    </tr>\n",
       "    <tr>\n",
       "      <th>2011-10-13</th>\n",
       "      <td>8.3072</td>\n",
       "      <td>2011:Q3</td>\n",
       "      <td>8.3072</td>\n",
       "      <td>16:01</td>\n",
       "      <td>3.803</td>\n",
       "      <td>4.5042</td>\n",
       "      <td>8.184108</td>\n",
       "      <td>29.2497</td>\n",
       "      <td>8.654398</td>\n",
       "    </tr>\n",
       "    <tr>\n",
       "      <th>2012-01-19</th>\n",
       "      <td>8.1975</td>\n",
       "      <td>2011:Q4</td>\n",
       "      <td>8.1975</td>\n",
       "      <td>17:10</td>\n",
       "      <td>4.576</td>\n",
       "      <td>3.6215</td>\n",
       "      <td>7.953013</td>\n",
       "      <td>29.6586</td>\n",
       "      <td>4.269261</td>\n",
       "    </tr>\n",
       "    <tr>\n",
       "      <th>2012-04-12</th>\n",
       "      <td>8.7260</td>\n",
       "      <td>2012:Q1</td>\n",
       "      <td>8.7260</td>\n",
       "      <td>Aft-mkt</td>\n",
       "      <td>4.168</td>\n",
       "      <td>4.5580</td>\n",
       "      <td>8.667932</td>\n",
       "      <td>32.8897</td>\n",
       "      <td>13.243396</td>\n",
       "    </tr>\n",
       "    <tr>\n",
       "      <th>2012-07-19</th>\n",
       "      <td>8.3969</td>\n",
       "      <td>2012:Q2</td>\n",
       "      <td>8.5366</td>\n",
       "      <td>16:57</td>\n",
       "      <td>4.361</td>\n",
       "      <td>4.0359</td>\n",
       "      <td>8.600177</td>\n",
       "      <td>33.7673</td>\n",
       "      <td>2.854817</td>\n",
       "    </tr>\n",
       "    <tr>\n",
       "      <th>2012-10-18</th>\n",
       "      <td>6.5121</td>\n",
       "      <td>2012:Q3</td>\n",
       "      <td>6.4623</td>\n",
       "      <td>Aft-mkt</td>\n",
       "      <td>4.378</td>\n",
       "      <td>2.1341</td>\n",
       "      <td>1.672863</td>\n",
       "      <td>31.9224</td>\n",
       "      <td>-5.335720</td>\n",
       "    </tr>\n",
       "    <tr>\n",
       "      <th>2013-01-22</th>\n",
       "      <td>8.5964</td>\n",
       "      <td>2012:Q4</td>\n",
       "      <td>8.6562</td>\n",
       "      <td>Aft-mkt</td>\n",
       "      <td>4.216</td>\n",
       "      <td>4.3804</td>\n",
       "      <td>3.620827</td>\n",
       "      <td>32.3811</td>\n",
       "      <td>3.481719</td>\n",
       "    </tr>\n",
       "    <tr>\n",
       "      <th>2013-04-18</th>\n",
       "      <td>9.8430</td>\n",
       "      <td>2013:Q1</td>\n",
       "      <td>10.4513</td>\n",
       "      <td>Aft-mkt</td>\n",
       "      <td>4.379</td>\n",
       "      <td>5.4640</td>\n",
       "      <td>3.217061</td>\n",
       "      <td>34.1064</td>\n",
       "      <td>7.054381</td>\n",
       "    </tr>\n",
       "    <tr>\n",
       "      <th>2013-07-18</th>\n",
       "      <td>7.5293</td>\n",
       "      <td>2013:Q2</td>\n",
       "      <td>8.1775</td>\n",
       "      <td>Aft-mkt</td>\n",
       "      <td>4.502</td>\n",
       "      <td>3.0273</td>\n",
       "      <td>2.479704</td>\n",
       "      <td>33.7473</td>\n",
       "      <td>2.157976</td>\n",
       "    </tr>\n",
       "    <tr>\n",
       "      <th>2013-10-17</th>\n",
       "      <td>8.6861</td>\n",
       "      <td>2013:Q3</td>\n",
       "      <td>9.2945</td>\n",
       "      <td>Aft-mkt</td>\n",
       "      <td>4.225</td>\n",
       "      <td>4.4611</td>\n",
       "      <td>3.642655</td>\n",
       "      <td>36.5795</td>\n",
       "      <td>11.647559</td>\n",
       "    </tr>\n",
       "    <tr>\n",
       "      <th>2014-01-30</th>\n",
       "      <td>9.8829</td>\n",
       "      <td>2013:Q4</td>\n",
       "      <td>11.3488</td>\n",
       "      <td>Aft-mkt</td>\n",
       "      <td>5.068</td>\n",
       "      <td>4.8149</td>\n",
       "      <td>5.086444</td>\n",
       "      <td>39.2721</td>\n",
       "      <td>8.685835</td>\n",
       "    </tr>\n",
       "    <tr>\n",
       "      <th>2014-04-16</th>\n",
       "      <td>10.6308</td>\n",
       "      <td>2014:Q1</td>\n",
       "      <td>10.6308</td>\n",
       "      <td>Aft-mkt</td>\n",
       "      <td>5.353</td>\n",
       "      <td>5.2778</td>\n",
       "      <td>12.886427</td>\n",
       "      <td>39.4516</td>\n",
       "      <td>1.919736</td>\n",
       "    </tr>\n",
       "    <tr>\n",
       "      <th>2014-07-17</th>\n",
       "      <td>5.0761</td>\n",
       "      <td>2014:Q2</td>\n",
       "      <td>4.5973</td>\n",
       "      <td>Aft-mkt</td>\n",
       "      <td>5.087</td>\n",
       "      <td>-0.0109</td>\n",
       "      <td>-0.003721</td>\n",
       "      <td>35.8714</td>\n",
       "      <td>-6.829953</td>\n",
       "    </tr>\n",
       "    <tr>\n",
       "      <th>2014-10-16</th>\n",
       "      <td>4.3481</td>\n",
       "      <td>2014:Q3</td>\n",
       "      <td>3.9255</td>\n",
       "      <td>Aft-mkt</td>\n",
       "      <td>5.328</td>\n",
       "      <td>-0.9799</td>\n",
       "      <td>-0.290928</td>\n",
       "      <td>30.5024</td>\n",
       "      <td>-13.898042</td>\n",
       "    </tr>\n",
       "    <tr>\n",
       "      <th>2015-01-29</th>\n",
       "      <td>5.4849</td>\n",
       "      <td>2014:Q4</td>\n",
       "      <td>4.9827</td>\n",
       "      <td>Aft-mkt</td>\n",
       "      <td>5.704</td>\n",
       "      <td>-0.2191</td>\n",
       "      <td>-0.429536</td>\n",
       "      <td>24.1363</td>\n",
       "      <td>-12.690721</td>\n",
       "    </tr>\n",
       "    <tr>\n",
       "      <th>2015-04-23</th>\n",
       "      <td>5.1858</td>\n",
       "      <td>2015:Q1</td>\n",
       "      <td>5.0860</td>\n",
       "      <td>Aft-mkt</td>\n",
       "      <td>5.318</td>\n",
       "      <td>-0.1322</td>\n",
       "      <td>-0.283471</td>\n",
       "      <td>18.5915</td>\n",
       "      <td>-10.590763</td>\n",
       "    </tr>\n",
       "    <tr>\n",
       "      <th>2015-07-16</th>\n",
       "      <td>4.9300</td>\n",
       "      <td>2015:Q2</td>\n",
       "      <td>4.9300</td>\n",
       "      <td>16:01</td>\n",
       "      <td>5.394</td>\n",
       "      <td>-0.4640</td>\n",
       "      <td>-2.696802</td>\n",
       "      <td>18.9242</td>\n",
       "      <td>2.831151</td>\n",
       "    </tr>\n",
       "    <tr>\n",
       "      <th>2015-10-22</th>\n",
       "      <td>5.7300</td>\n",
       "      <td>2015:Q3</td>\n",
       "      <td>5.7300</td>\n",
       "      <td>22:47</td>\n",
       "      <td>5.803</td>\n",
       "      <td>-0.0730</td>\n",
       "      <td>-0.346393</td>\n",
       "      <td>20.7287</td>\n",
       "      <td>10.541178</td>\n",
       "    </tr>\n",
       "    <tr>\n",
       "      <th>2016-02-01</th>\n",
       "      <td>7.0629</td>\n",
       "      <td>2015:Q4</td>\n",
       "      <td>6.5844</td>\n",
       "      <td>16:01</td>\n",
       "      <td>6.551</td>\n",
       "      <td>0.5119</td>\n",
       "      <td>1.042248</td>\n",
       "      <td>22.3304</td>\n",
       "      <td>7.536026</td>\n",
       "    </tr>\n",
       "    <tr>\n",
       "      <th>2016-04-21</th>\n",
       "      <td>6.0200</td>\n",
       "      <td>2016:Q1</td>\n",
       "      <td>6.0200</td>\n",
       "      <td>16:01</td>\n",
       "      <td>6.305</td>\n",
       "      <td>-0.2850</td>\n",
       "      <td>-0.690516</td>\n",
       "      <td>23.2644</td>\n",
       "      <td>4.874789</td>\n",
       "    </tr>\n",
       "    <tr>\n",
       "      <th>2016-07-28</th>\n",
       "      <td>6.9987</td>\n",
       "      <td>2016:Q2</td>\n",
       "      <td>7.0000</td>\n",
       "      <td>16:01</td>\n",
       "      <td>6.434</td>\n",
       "      <td>0.5647</td>\n",
       "      <td>1.186182</td>\n",
       "      <td>25.3344</td>\n",
       "      <td>9.711367</td>\n",
       "    </tr>\n",
       "    <tr>\n",
       "      <th>2016-10-27</th>\n",
       "      <td>7.2461</td>\n",
       "      <td>2016:Q3</td>\n",
       "      <td>6.7755</td>\n",
       "      <td>16:01</td>\n",
       "      <td>6.754</td>\n",
       "      <td>0.4921</td>\n",
       "      <td>1.044759</td>\n",
       "      <td>26.3799</td>\n",
       "      <td>4.852786</td>\n",
       "    </tr>\n",
       "    <tr>\n",
       "      <th>2017-01-26</th>\n",
       "      <td>7.5600</td>\n",
       "      <td>2016:Q4</td>\n",
       "      <td>7.1296</td>\n",
       "      <td>16:03</td>\n",
       "      <td>7.672</td>\n",
       "      <td>-0.1120</td>\n",
       "      <td>-0.301470</td>\n",
       "      <td>26.9251</td>\n",
       "      <td>2.431583</td>\n",
       "    </tr>\n",
       "    <tr>\n",
       "      <th>2017-04-27</th>\n",
       "      <td>7.7300</td>\n",
       "      <td>2017:Q1</td>\n",
       "      <td>7.7300</td>\n",
       "      <td>16:04</td>\n",
       "      <td>7.418</td>\n",
       "      <td>0.3120</td>\n",
       "      <td>1.005973</td>\n",
       "      <td>28.6351</td>\n",
       "      <td>6.679835</td>\n",
       "    </tr>\n",
       "    <tr>\n",
       "      <th>2017-07-24</th>\n",
       "      <td>5.0100</td>\n",
       "      <td>2017:Q2</td>\n",
       "      <td>5.0100</td>\n",
       "      <td>16:02</td>\n",
       "      <td>4.450</td>\n",
       "      <td>0.5600</td>\n",
       "      <td>1.647933</td>\n",
       "      <td>26.6451</td>\n",
       "      <td>-6.186828</td>\n",
       "    </tr>\n",
       "    <tr>\n",
       "      <th>2017-10-26</th>\n",
       "      <td>9.5700</td>\n",
       "      <td>2017:Q3</td>\n",
       "      <td>9.5700</td>\n",
       "      <td>16:05</td>\n",
       "      <td>8.344</td>\n",
       "      <td>1.2260</td>\n",
       "      <td>2.593820</td>\n",
       "      <td>29.4396</td>\n",
       "      <td>17.369449</td>\n",
       "    </tr>\n",
       "    <tr>\n",
       "      <th>2018-02-01</th>\n",
       "      <td>9.7000</td>\n",
       "      <td>2017:Q4</td>\n",
       "      <td>-4.3500</td>\n",
       "      <td>16:02</td>\n",
       "      <td>10.031</td>\n",
       "      <td>-0.3310</td>\n",
       "      <td>-0.423704</td>\n",
       "      <td>17.9600</td>\n",
       "      <td>-20.300733</td>\n",
       "    </tr>\n",
       "  </tbody>\n",
       "</table>\n",
       "</div>"
      ],
      "text/plain": [
       "                   Comparable EPS Year/Period  Earnings EPS Announcement Time  \\\n",
       "Announcement Date                                                               \n",
       "2010-01-21                 6.1132     2009:Q4        6.1132             16:01   \n",
       "2010-04-15                 6.0434     2010:Q1        6.0434             16:01   \n",
       "2010-07-15                 5.6944     2010:Q2        5.6944             16:36   \n",
       "2010-10-14                 6.7016     2010:Q3        6.7016             16:35   \n",
       "2011-01-20                 7.7886     2010:Q4        7.7886           Aft-mkt   \n",
       "2011-04-14                 7.0207     2011:Q1        5.4949           Aft-mkt   \n",
       "2011-07-14                 7.6590     2011:Q2        7.6590             17:14   \n",
       "2011-10-13                 8.3072     2011:Q3        8.3072             16:01   \n",
       "2012-01-19                 8.1975     2011:Q4        8.1975             17:10   \n",
       "2012-04-12                 8.7260     2012:Q1        8.7260           Aft-mkt   \n",
       "2012-07-19                 8.3969     2012:Q2        8.5366             16:57   \n",
       "2012-10-18                 6.5121     2012:Q3        6.4623           Aft-mkt   \n",
       "2013-01-22                 8.5964     2012:Q4        8.6562           Aft-mkt   \n",
       "2013-04-18                 9.8430     2013:Q1       10.4513           Aft-mkt   \n",
       "2013-07-18                 7.5293     2013:Q2        8.1775           Aft-mkt   \n",
       "2013-10-17                 8.6861     2013:Q3        9.2945           Aft-mkt   \n",
       "2014-01-30                 9.8829     2013:Q4       11.3488           Aft-mkt   \n",
       "2014-04-16                10.6308     2014:Q1       10.6308           Aft-mkt   \n",
       "2014-07-17                 5.0761     2014:Q2        4.5973           Aft-mkt   \n",
       "2014-10-16                 4.3481     2014:Q3        3.9255           Aft-mkt   \n",
       "2015-01-29                 5.4849     2014:Q4        4.9827           Aft-mkt   \n",
       "2015-04-23                 5.1858     2015:Q1        5.0860           Aft-mkt   \n",
       "2015-07-16                 4.9300     2015:Q2        4.9300             16:01   \n",
       "2015-10-22                 5.7300     2015:Q3        5.7300             22:47   \n",
       "2016-02-01                 7.0629     2015:Q4        6.5844             16:01   \n",
       "2016-04-21                 6.0200     2016:Q1        6.0200             16:01   \n",
       "2016-07-28                 6.9987     2016:Q2        7.0000             16:01   \n",
       "2016-10-27                 7.2461     2016:Q3        6.7755             16:01   \n",
       "2017-01-26                 7.5600     2016:Q4        7.1296             16:03   \n",
       "2017-04-27                 7.7300     2017:Q1        7.7300             16:04   \n",
       "2017-07-24                 5.0100     2017:Q2        5.0100             16:02   \n",
       "2017-10-26                 9.5700     2017:Q3        9.5700             16:05   \n",
       "2018-02-01                 9.7000     2017:Q4       -4.3500             16:02   \n",
       "\n",
       "                   Estimate EPS   delta   surprise  Trailing_EPS     Growth  \n",
       "Announcement Date                                                            \n",
       "2010-01-21                2.832  3.2812        NaN           NaN        NaN  \n",
       "2010-04-15                2.908  3.1354        NaN           NaN        NaN  \n",
       "2010-07-15                2.871  2.8234  12.072309           NaN        NaN  \n",
       "2010-10-14                2.947  3.7546   7.921596       24.5526        NaN  \n",
       "2011-01-20                3.577  4.2116   5.953045       26.2280   6.747718  \n",
       "2011-04-14                3.569  3.4517   9.022984       25.6795  -0.329197  \n",
       "2011-07-14                3.402  4.2570   9.409727       27.6441  10.960475  \n",
       "2011-10-13                3.803  4.5042   8.184108       29.2497   8.654398  \n",
       "2012-01-19                4.576  3.6215   7.953013       29.6586   4.269261  \n",
       "2012-04-12                4.168  4.5580   8.667932       32.8897  13.243396  \n",
       "2012-07-19                4.361  4.0359   8.600177       33.7673   2.854817  \n",
       "2012-10-18                4.378  2.1341   1.672863       31.9224  -5.335720  \n",
       "2013-01-22                4.216  4.3804   3.620827       32.3811   3.481719  \n",
       "2013-04-18                4.379  5.4640   3.217061       34.1064   7.054381  \n",
       "2013-07-18                4.502  3.0273   2.479704       33.7473   2.157976  \n",
       "2013-10-17                4.225  4.4611   3.642655       36.5795  11.647559  \n",
       "2014-01-30                5.068  4.8149   5.086444       39.2721   8.685835  \n",
       "2014-04-16                5.353  5.2778  12.886427       39.4516   1.919736  \n",
       "2014-07-17                5.087 -0.0109  -0.003721       35.8714  -6.829953  \n",
       "2014-10-16                5.328 -0.9799  -0.290928       30.5024 -13.898042  \n",
       "2015-01-29                5.704 -0.2191  -0.429536       24.1363 -12.690721  \n",
       "2015-04-23                5.318 -0.1322  -0.283471       18.5915 -10.590763  \n",
       "2015-07-16                5.394 -0.4640  -2.696802       18.9242   2.831151  \n",
       "2015-10-22                5.803 -0.0730  -0.346393       20.7287  10.541178  \n",
       "2016-02-01                6.551  0.5119   1.042248       22.3304   7.536026  \n",
       "2016-04-21                6.305 -0.2850  -0.690516       23.2644   4.874789  \n",
       "2016-07-28                6.434  0.5647   1.186182       25.3344   9.711367  \n",
       "2016-10-27                6.754  0.4921   1.044759       26.3799   4.852786  \n",
       "2017-01-26                7.672 -0.1120  -0.301470       26.9251   2.431583  \n",
       "2017-04-27                7.418  0.3120   1.005973       28.6351   6.679835  \n",
       "2017-07-24                4.450  0.5600   1.647933       26.6451  -6.186828  \n",
       "2017-10-26                8.344  1.2260   2.593820       29.4396  17.369449  \n",
       "2018-02-01               10.031 -0.3310  -0.423704       17.9600 -20.300733  "
      ]
     },
     "execution_count": 2,
     "metadata": {},
     "output_type": "execute_result"
    }
   ],
   "source": [
    "df = pd.read_csv('./data/eps_data/GOOG.csv',index_col='Announcement Date')\n",
    "df.index = pd.to_datetime(df.index)\n",
    "df.dropna(inplace=True)\n",
    "#df[df['Year/Period'].isin(qs[0])]\n",
    "df = df[::-1]\n",
    "df['delta'] = df['Comparable EPS'] - df['Estimate EPS']\n",
    "df['surprise'] = df['delta']/(df.loc[:,'delta'].rolling(3).std(ddof=1))\n",
    "#qs = [[str(2010+i)+':Q'+str(j) for i in range(9) ]for j in range(1,5)]\n",
    "\n",
    "df['Trailing_EPS'] = df['Earnings EPS'].rolling(4).sum()\n",
    "t = 100*((-df['Earnings EPS'] + df['Earnings EPS'].shift(-1))/df['Earnings EPS'].apply(np.abs)).shift(1).rolling(4).mean()\n",
    "#t[t<0] = 0\n",
    "df['Growth'] = t\n",
    "df"
   ]
  },
  {
   "cell_type": "code",
   "execution_count": 6,
   "metadata": {
    "ExecuteTime": {
     "end_time": "2018-12-09T10:21:20.817497Z",
     "start_time": "2018-12-09T10:20:49.760684Z"
    }
   },
   "outputs": [
    {
     "name": "stdout",
     "output_type": "stream",
     "text": [
      "DLPH single positional indexer is out-of-bounds\n",
      "JAVA single positional indexer is out-of-bounds\n"
     ]
    }
   ],
   "source": [
    "epss = {}\n",
    "\n",
    "for i,ticker in enumerate(tickers):\n",
    "    EPSdf = pd.read_csv(f'./data/eps_data/{ticker}.csv').dropna()[::-1]\n",
    "    EPSdf.index = pd.to_datetime(EPSdf['Announcement Date'])# +' '+ EPSdf['Announcement Time'])\n",
    "    try:\n",
    "        EPSdf.iloc[0]\n",
    "        EPSdf = EPSdf.loc[~EPSdf.index.duplicated(keep='first')]\n",
    "#         EPSdf['delta'] = EPSdf['Comparable EPS'] - EPSdf['Estimate EPS']\n",
    "#         EPSdf[f'{ticker}_Beat_est'] = (EPSdf['delta']>0).astype(float)\n",
    "#         EPSdf[f'{ticker}_Beat_last'] = (EPSdf['Comparable EPS']>EPSdf['Comparable EPS'].shift(1)).astype(float)\n",
    "#         EPSdf[f'{ticker}_SUE'] = EPSdf['delta'] / EPSdf['delta'].expanding(3).std(ddof=0)\n",
    "        #EPSdf = EPSdf[['Earnings EPS',f'{ticker}_SUE',f'{ticker}_Beat_est',f'{ticker}_Beat_last']]#,'Comparable EPS','Estimate EPS']]\n",
    "        EPSdf = EPSdf[['Earnings EPS']]\n",
    "        EPSdf.columns = ['EPS']#,'SUE','Beat_est','Beat_last']\n",
    "        EPSdf['EPS_L4Q'] = EPSdf['EPS'].rolling(4).sum()\n",
    "        t = 100*((-EPSdf['EPS'] + EPSdf['EPS'].shift(-1))/EPSdf['EPS'].apply(np.abs)).shift(1).rolling(3).mean()\n",
    "        EPSdf['Growth'] = t\n",
    "        EPSdf.drop(['EPS'],axis=1,inplace=True)\n",
    "        EPSdf.index += pd.Timedelta(hours=16)\n",
    "        epss[ticker] = (EPSdf.dropna())\n",
    "        \n",
    "    except Exception as e:\n",
    "        print(ticker,e)"
   ]
  },
  {
   "cell_type": "code",
   "execution_count": 7,
   "metadata": {
    "ExecuteTime": {
     "end_time": "2018-12-09T10:21:23.481859Z",
     "start_time": "2018-12-09T10:21:23.089623Z"
    }
   },
   "outputs": [],
   "source": [
    "eps = pd.concat(epss,axis=1)\n",
    "#eps = eps.ffill().fillna(9999)"
   ]
  },
  {
   "cell_type": "code",
   "execution_count": 9,
   "metadata": {
    "ExecuteTime": {
     "end_time": "2018-12-09T10:21:32.918707Z",
     "start_time": "2018-12-09T10:21:32.709907Z"
    }
   },
   "outputs": [],
   "source": [
    "with open('./data/eps_data_list.pkl','wb') as f:\n",
    "    pickle.dump(epss,f)"
   ]
  },
  {
   "cell_type": "code",
   "execution_count": 8,
   "metadata": {
    "ExecuteTime": {
     "end_time": "2018-12-09T10:21:25.936528Z",
     "start_time": "2018-12-09T10:21:25.799847Z"
    }
   },
   "outputs": [
    {
     "data": {
      "text/html": [
       "<div>\n",
       "<style scoped>\n",
       "    .dataframe tbody tr th:only-of-type {\n",
       "        vertical-align: middle;\n",
       "    }\n",
       "\n",
       "    .dataframe tbody tr th {\n",
       "        vertical-align: top;\n",
       "    }\n",
       "\n",
       "    .dataframe thead tr th {\n",
       "        text-align: left;\n",
       "    }\n",
       "\n",
       "    .dataframe thead tr:last-of-type th {\n",
       "        text-align: right;\n",
       "    }\n",
       "</style>\n",
       "<table border=\"1\" class=\"dataframe\">\n",
       "  <thead>\n",
       "    <tr>\n",
       "      <th></th>\n",
       "      <th colspan=\"2\" halign=\"left\">ADBE</th>\n",
       "    </tr>\n",
       "    <tr>\n",
       "      <th></th>\n",
       "      <th>EPS_L4Q</th>\n",
       "      <th>Growth</th>\n",
       "    </tr>\n",
       "    <tr>\n",
       "      <th>Announcement Date</th>\n",
       "      <th></th>\n",
       "      <th></th>\n",
       "    </tr>\n",
       "  </thead>\n",
       "  <tbody>\n",
       "    <tr>\n",
       "      <th>2010-12-20 16:00:00</th>\n",
       "      <td>1.5157</td>\n",
       "      <td>26.712061</td>\n",
       "    </tr>\n",
       "    <tr>\n",
       "      <th>2011-03-22 16:00:00</th>\n",
       "      <td>1.7130</td>\n",
       "      <td>15.923614</td>\n",
       "    </tr>\n",
       "    <tr>\n",
       "      <th>2011-06-21 16:00:00</th>\n",
       "      <td>1.8520</td>\n",
       "      <td>3.914339</td>\n",
       "    </tr>\n",
       "    <tr>\n",
       "      <th>2011-09-20 16:00:00</th>\n",
       "      <td>1.8439</td>\n",
       "      <td>-8.136341</td>\n",
       "    </tr>\n",
       "    <tr>\n",
       "      <th>2011-12-15 16:00:00</th>\n",
       "      <td>1.8134</td>\n",
       "      <td>3.653177</td>\n",
       "    </tr>\n",
       "  </tbody>\n",
       "</table>\n",
       "</div>"
      ],
      "text/plain": [
       "                       ADBE           \n",
       "                    EPS_L4Q     Growth\n",
       "Announcement Date                     \n",
       "2010-12-20 16:00:00  1.5157  26.712061\n",
       "2011-03-22 16:00:00  1.7130  15.923614\n",
       "2011-06-21 16:00:00  1.8520   3.914339\n",
       "2011-09-20 16:00:00  1.8439  -8.136341\n",
       "2011-12-15 16:00:00  1.8134   3.653177"
      ]
     },
     "execution_count": 8,
     "metadata": {},
     "output_type": "execute_result"
    }
   ],
   "source": [
    "eps.filter(regex='ADBE.*').dropna().head()"
   ]
  },
  {
   "cell_type": "code",
   "execution_count": 22,
   "metadata": {
    "ExecuteTime": {
     "end_time": "2018-11-29T14:24:36.745083Z",
     "start_time": "2018-11-29T14:24:36.708785Z"
    }
   },
   "outputs": [
    {
     "data": {
      "text/plain": [
       "1.8439"
      ]
     },
     "execution_count": 22,
     "metadata": {},
     "output_type": "execute_result"
    }
   ],
   "source": [
    ".5285+.4580+.4493+.4081"
   ]
  },
  {
   "cell_type": "code",
   "execution_count": 146,
   "metadata": {
    "scrolled": true
   },
   "outputs": [],
   "source": [
    "#[eps.iloc[:,i:i+2].plot() for i in np.random.choice(4*np.arange(1971//4),10)];"
   ]
  },
  {
   "cell_type": "code",
   "execution_count": 22,
   "metadata": {},
   "outputs": [],
   "source": [
    "ts = {}\n",
    "\n",
    "for i,ticker in enumerate(tickers):\n",
    "    EPSdf = pd.read_csv(f'./data/eps_data/{ticker}.csv').dropna()\n",
    "    EPSdf.index = pd.to_datetime(EPSdf['Announcement Date'])\n",
    "    EPSdf = EPSdf.loc[~EPSdf.index.duplicated(keep='first')]  \n",
    "    ts[ticker] = EPSdf['Announcement Time']"
   ]
  },
  {
   "cell_type": "code",
   "execution_count": 26,
   "metadata": {},
   "outputs": [],
   "source": [
    "times = pd.concat(ts)"
   ]
  },
  {
   "cell_type": "code",
   "execution_count": 32,
   "metadata": {},
   "outputs": [
    {
     "data": {
      "text/plain": [
       "      Announcement Date\n",
       "NWS   2013-09-20           Other\n",
       "NWSA  2013-09-20           Other\n",
       "Name: Announcement Time, dtype: object"
      ]
     },
     "execution_count": 32,
     "metadata": {},
     "output_type": "execute_result"
    }
   ],
   "source": [
    "times[times=='Other']"
   ]
  },
  {
   "cell_type": "code",
   "execution_count": 8,
   "metadata": {
    "ExecuteTime": {
     "end_time": "2018-11-29T14:13:08.771428Z",
     "start_time": "2018-11-29T14:13:08.525710Z"
    }
   },
   "outputs": [
    {
     "data": {
      "text/plain": [
       "<matplotlib.axes._subplots.AxesSubplot at 0x7f1a6102c128>"
      ]
     },
     "execution_count": 8,
     "metadata": {},
     "output_type": "execute_result"
    },
    {
     "data": {
      "image/png": "[encoded data removed]",
      "text/plain": [
       "<Figure size 432x288 with 1 Axes>"
      ]
     },
     "metadata": {
      "needs_background": "light"
     },
     "output_type": "display_data"
    }
   ],
   "source": [
    "df.Growth.plot()"
   ]
  },
  {
   "cell_type": "code",
   "execution_count": null,
   "metadata": {},
   "outputs": [],
   "source": []
  }
 ],
 "metadata": {
  "kernelspec": {
   "display_name": "Python 3",
   "language": "python",
   "name": "python3"
  },
  "language_info": {
   "codemirror_mode": {
    "name": "ipython",
    "version": 3
   },
   "file_extension": ".py",
   "mimetype": "text/x-python",
   "name": "python",
   "nbconvert_exporter": "python",
   "pygments_lexer": "ipython3",
   "version": "3.7.1"
  },
  "varInspector": {
   "cols": {
    "lenName": 16,
    "lenType": 16,
    "lenVar": 40
   },
   "kernels_config": {
    "python": {
     "delete_cmd_postfix": "",
     "delete_cmd_prefix": "del ",
     "library": "var_list.py",
     "varRefreshCmd": "print(var_dic_list())"
    },
    "r": {
     "delete_cmd_postfix": ") ",
     "delete_cmd_prefix": "rm(",
     "library": "var_list.r",
     "varRefreshCmd": "cat(var_dic_list()) "
    }
   },
   "types_to_exclude": [
    "module",
    "function",
    "builtin_function_or_method",
    "instance",
    "_Feature"
   ],
   "window_display": false
  }
 },
 "nbformat": 4,
 "nbformat_minor": 2
}
